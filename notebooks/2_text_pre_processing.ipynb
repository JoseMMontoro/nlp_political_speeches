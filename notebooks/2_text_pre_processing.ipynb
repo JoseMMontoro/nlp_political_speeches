{
 "cells": [
  {
   "cell_type": "code",
   "execution_count": 129,
   "metadata": {},
   "outputs": [
    {
     "name": "stdout",
     "output_type": "stream",
     "text": [
      "The autoreload extension is already loaded. To reload it, use:\n",
      "  %reload_ext autoreload\n"
     ]
    }
   ],
   "source": [
    "%load_ext autoreload\n",
    "%autoreload 2\n"
   ]
  },
  {
   "cell_type": "code",
   "execution_count": 130,
   "metadata": {},
   "outputs": [],
   "source": [
    "%reload_ext autoreload"
   ]
  },
  {
   "cell_type": "code",
   "execution_count": 131,
   "metadata": {},
   "outputs": [],
   "source": [
    "import pandas as pd\n",
    "import seaborn as sns\n",
    "import spacy"
   ]
  },
  {
   "cell_type": "code",
   "execution_count": 132,
   "metadata": {},
   "outputs": [],
   "source": [
    "speeches = pd.read_csv('millercenter_speeches_df.csv', index_col=0).reset_index(drop=True)"
   ]
  },
  {
   "cell_type": "code",
   "execution_count": 133,
   "metadata": {},
   "outputs": [],
   "source": [
    "import sys\n",
    "sys.path.append('/Users/susan_jose/Jose/springboard/nlp_political_speeches/Text_Pre-processing/')\n",
    "from text_preprocessing_helpers import expand_contractions, remove_special_characters"
   ]
  },
  {
   "cell_type": "code",
   "execution_count": 134,
   "metadata": {},
   "outputs": [],
   "source": [
    "def remove_characters(text):\n",
    "    import re\n",
    "    text = re.sub(r'\\n', ' ', text)\n",
    "    text = re.sub(r'[\\[\\]]', ' ', text)\n",
    "    pattern = r'[^a-zA-z0-9\\s]'\n",
    "    text = re.sub(pattern, ' ', text)\n",
    "    return text"
   ]
  },
  {
   "cell_type": "code",
   "execution_count": 135,
   "metadata": {},
   "outputs": [],
   "source": [
    "# Expand contractions using DJ's function\n",
    "speeches['Transcript'] = speeches['Transcript'].apply(lambda x : expand_contractions(x))"
   ]
  },
  {
   "cell_type": "code",
   "execution_count": 136,
   "metadata": {},
   "outputs": [],
   "source": [
    "speeches['Transcript'] = speeches['Transcript'].apply(lambda x : remove_characters(x))"
   ]
  },
  {
   "cell_type": "code",
   "execution_count": 66,
   "metadata": {},
   "outputs": [],
   "source": [
    "# No need to do POS, dependency parsing, NER or other pre-processing"
   ]
  },
  {
   "cell_type": "code",
   "execution_count": 6,
   "metadata": {},
   "outputs": [],
   "source": [
    "# No need to convert accented characters for this type of text"
   ]
  },
  {
   "cell_type": "code",
   "execution_count": 65,
   "metadata": {},
   "outputs": [],
   "source": [
    "# Using SpaCy to lemmatize transcripts\n",
    "# Remove stop-words"
   ]
  },
  {
   "cell_type": "code",
   "execution_count": 137,
   "metadata": {},
   "outputs": [],
   "source": [
    "nlp = spacy.load('en')"
   ]
  },
  {
   "cell_type": "code",
   "execution_count": 138,
   "metadata": {},
   "outputs": [],
   "source": [
    "def lemmatize_speech(speech):\n",
    "    text = nlp(speech)\n",
    "    text = ' '.join([word.lemma_ if word.lemma_ != '-PRON-' else word.text for word in text])\n",
    "    return text"
   ]
  },
  {
   "cell_type": "code",
   "execution_count": 139,
   "metadata": {},
   "outputs": [],
   "source": [
    "def remove_stopwords(speech):\n",
    "    data = nlp(speech)\n",
    "    data = ' '.join([word.text for word in data if not word.is_stop ])\n",
    "    return data"
   ]
  },
  {
   "cell_type": "code",
   "execution_count": 140,
   "metadata": {},
   "outputs": [],
   "source": [
    "speeches['Transcript'] = speeches['Transcript'].apply(lambda x : lemmatize_speech(x))"
   ]
  },
  {
   "cell_type": "code",
   "execution_count": 141,
   "metadata": {},
   "outputs": [],
   "source": [
    "# Convert to lowercase\n",
    "speeches['Transcript'] = speeches['Transcript'].str.lower()"
   ]
  },
  {
   "cell_type": "code",
   "execution_count": 142,
   "metadata": {},
   "outputs": [],
   "source": [
    "speeches['Transcript'] = speeches['Transcript'].apply(lambda x : remove_stopwords(x))"
   ]
  },
  {
   "cell_type": "code",
   "execution_count": 143,
   "metadata": {},
   "outputs": [],
   "source": [
    "# Replace more than one space with just one\n",
    "speeches['Transcript'] = speeches['Transcript'].str.replace('[ ]{2,}', ' ')"
   ]
  },
  {
   "cell_type": "code",
   "execution_count": 144,
   "metadata": {},
   "outputs": [],
   "source": [
    "def remove_non_ascii(speech):\n",
    "    data = nlp(speech)\n",
    "    data = ' '.join([word.text for word in data if word.is_ascii ])\n",
    "    return data"
   ]
  },
  {
   "cell_type": "code",
   "execution_count": 145,
   "metadata": {},
   "outputs": [],
   "source": [
    "speeches['Transcript'] = speeches['Transcript'].apply(lambda x : remove_non_ascii(x))"
   ]
  },
  {
   "cell_type": "code",
   "execution_count": 146,
   "metadata": {},
   "outputs": [],
   "source": [
    "with open('democratic_politicians.txt', 'r') as f:\n",
    "    dem = f.read().split('\\n')\n",
    "with open('republican_politicians.txt', 'r') as g:\n",
    "    rep = g.read().split('\\n')"
   ]
  },
  {
   "cell_type": "code",
   "execution_count": 147,
   "metadata": {},
   "outputs": [],
   "source": [
    "# Create list with affiliation per row\n",
    "aff = ['Republican' if p in rep else 'Democrat' if p in dem else 'Missing' for p in speeches['President']]\n",
    "#Assign affiliation to rows\n",
    "speeches['Affiliation'] = aff"
   ]
  },
  {
   "cell_type": "code",
   "execution_count": 148,
   "metadata": {},
   "outputs": [],
   "source": [
    "speeches.loc[speeches['Affiliation'] == 'Democrat', 'Label'] = int(1)\n",
    "speeches.loc[speeches['Affiliation'] == 'Republican', 'Label'] = int(0)\n",
    "speeches['Label'] = speeches['Label'].astype(int)"
   ]
  },
  {
   "cell_type": "code",
   "execution_count": 152,
   "metadata": {},
   "outputs": [],
   "source": [
    "speeches.to_csv('../speeches_millercenter_preprocessed.csv', index=False)"
   ]
  },
  {
   "cell_type": "code",
   "execution_count": 151,
   "metadata": {},
   "outputs": [
    {
     "data": {
      "text/plain": [
       "'34th time speak oval office year soon time want share thought save long time honor life president write past week thank nancy grateful opportunity serve thing presidency somewhat apart spend lot time fast car drive people tint glass parent hold child wave late return time want stop reach glass connect maybe little tonight people ask feel leave fact sweet sorrow sweet california ranch freedom sorrow goodbye course leave beautiful place know hall stair office white house president family live favorite window like stand look early morning view ground washington monument mall jefferson memorial morning humidity low past jefferson river potomac virginia shore view lincoln smoke rise battle bull run prosaic thing grass bank morning traffic people way work sailboat river think bit window reflect past year mean mean image come mind like refrain nautical small story big ship refugee sailor early 80 height boat people sailor hard work carrier midway patrol south china sea sailor like american serviceman young smart fiercely observant crew spy horizon leaky little boat cram inside refugee indochina hop america midway send small launch bring ship safety refugee way choppy sea spy sailor deck stand yell hello american sailor hello freedom man small moment big meaning moment sailor write letter mind american 1980 stand freedom know past year world way rediscover journey decade hold stormy sea end reach destination fact grenada washington moscow summit recession 81 82 expansion begin late 82 continue day difference way great triumph thing proud economic recovery people america create fill 19 million new job recovery morale america respect world look leadership happen year ago reflect 1981 attend big economic summit hold year canada meeting place rotate member country opening meeting formal dinner head goverment seven industrialized nation sit like new kid school listen francois helmut drop title speak basis point sort lean ron year begin action feel ignite economic comeback cut tax regulation start cut spending soon recovery begin year later economic summit pretty cast big opening meeting sudden moment sit look break silence tell american miracle 1980 run president different pundit program result catastrophe view foreign affair war plan economy inflation soar bring economic collapse remember highly respected economist 1982 engine economic growth shut likely stay way year come opinion leader wrong fact radical right dangerous desperately need time win nickname great communicator think style word use difference content great communicator communicate great thing spring bloom brow come heart great nation experience wisdom belief principle guide century reagan revolution accept like great rediscovery rediscovery value common sense common sense tell big tax people produce cut people tax rate people produce economy bloom like plant cut grow quick strong economic program bring long peacetime expansion history real family income poverty rate entrepreneurship booming explosion research new technology export american industry competitive time summon national knock protectionist wall abroad instead erect home common sense tell preserve peace strong year weakness confusion rebuilt defense new year toast new peacefulness globe superpower actually begin reduce stockpile nuclear weapon hope progress bright regional conflict rack globe begin cease persian gulf longer war zone soviets leave afghanistan vietnamese prepare pull cambodia american mediate accord soon send 50 000 cuban troop home angola lesson course great nation challenge complex way long remember principle believe future learn begin great movement tell end mean change nation instead change world countries globe turn free market free speech turn away ideology past great rediscovery 1980 lo behold moral way government practical way government democracy profoundly good profoundly productive point celebrate anniversary 39th birthday sit review life flow fork river right middle life mean politic intention young raise believe pay way blessing bestow happy career entertainment world ultimately politic want protect precious revolution history mankind truly reverse course government little word people people tell government tell people driver government car decide route fast world constitution document government tell people privilege constitution document people tell government allow people free belief underlie basis try past year 1960 begin begun reverse order thing rule regulation confiscatory tax government money option freedom politic hand stop citizen politician right thing citizen think stop lot need stop hope remind people man free government limit clear effect neat predictable law physics government expand liberty contract free pure communism past year forge satisfy new closeness soviet union ask gamble answer base action word deed detente 1970s base action promise promise treat people people world better gulag gulag state expansionist wag proxy war africa asia latin america time far different president gorbachev bring internal democratic reform begin withdrawal afghanistan free prisoner time meet life way remind big thing small incident heady day moscow summit nancy decide break entourage afternoon visit shop arbat street little street moscows main shopping area visit surprise russian immediately recognize reach hand sweep away warmth feel possibility joy second kgb detail push way begin push shove people crowd interesting moment remind man street soviet union yearn peace government communist run communists mean view issue freedom human right differently guard continue work lessen eliminate tension mistrust view president gorbachev different previous soviet leader think know thing wrong society try fix wish continue work sure soviet union eventually emerge process threaten boil want new closeness continue long clear continue act certain way long continue act helpful manner pull punch persist pull plug trust verify play cut card watch closely afraid ask regret deficit talk great deal lately tonight argument hold tongue observation share victory congress people notice win win troop reagans regiment american people win battle letter write demand action action need finish job reagans regiment bush brigade soon chief need bit finally great tradition warning presidential farewell mind time oddly start thing proud past year resurgence national pride new patriotism national feeling good count ground thoughtfulness knowledge informed patriotism want good job teach child america represent long history world 35 year age grow different america teach directly mean american absorb air love country appreciation institution thing family neighborhood father street fight korea family lose anzio sense patriotism school fail sense patriotism popular culture movie celebrate democratic value implicitly reinforce idea america special tv like mid 60 enter 90 thing change young parent sure unambivalent appreciation america right thing teach modern child create popular culture ground patriotism longer style spirit reinstitutionaliz good job america freedom freedom speech freedom religion freedom enterprise freedom special rare fragile need production protection teach history base fashion important pilgrims come jimmy doolittle 30 second tokyo mean know year ago 40th anniversary d day read letter young woman write late father d fight omaha beach lisa zanatta henn remember forget boy normandy let help word forget know warn eradication american memory result ultimately erosion american spirit let start basic attention american history great emphasis civic ritual let offer lesson number america great change america begin dinner table tomorrow night kitchen hope talking begin child parent teach mean american let em know nail em american thing tonight thing past day window upstairs think bit shin city hill phrase come john winthrop write describe america imagine imagine important early pilgrim early freedom man journey today little wooden boat like pilgrims look home free speak shin city political life know communicate mind tall proud city build rock strong ocean windswept god bless teem people kind live harmony peace city free port hum commerce creativity city wall wall door door open heart stand city winter night prosperous secure happy year ago 200 year century stand strong true granite ridge glow hold steady matter storm beacon magnet freedom pilgrim lost place hurtle darkness home walk city street final word man woman reagan revolution man woman america year work bring america friend mark time difference city strong city free leave good hand bad bad goodbye god bless god bless united states america'"
      ]
     },
     "execution_count": 151,
     "metadata": {},
     "output_type": "execute_result"
    }
   ],
   "source": [
    "speeches['Transcript'][0]"
   ]
  }
 ],
 "metadata": {
  "kernelspec": {
   "display_name": "Python 3",
   "language": "python",
   "name": "python3"
  },
  "language_info": {
   "codemirror_mode": {
    "name": "ipython",
    "version": 3
   },
   "file_extension": ".py",
   "mimetype": "text/x-python",
   "name": "python",
   "nbconvert_exporter": "python",
   "pygments_lexer": "ipython3",
   "version": "3.7.7"
  }
 },
 "nbformat": 4,
 "nbformat_minor": 4
}
