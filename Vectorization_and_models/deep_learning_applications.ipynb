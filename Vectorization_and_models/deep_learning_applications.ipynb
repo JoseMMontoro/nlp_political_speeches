{
 "cells": [
  {
   "cell_type": "code",
   "execution_count": 2,
   "metadata": {},
   "outputs": [
    {
     "data": {
      "text/plain": [
       "'2.2.0'"
      ]
     },
     "execution_count": 2,
     "metadata": {},
     "output_type": "execute_result"
    }
   ],
   "source": [
    "import tensorflow as tf\n",
    "tf.__version__"
   ]
  },
  {
   "cell_type": "code",
   "execution_count": 3,
   "metadata": {},
   "outputs": [
    {
     "name": "stdout",
     "output_type": "stream",
     "text": [
      "WARNING:tensorflow:From <ipython-input-3-17bb7203622b>:1: is_gpu_available (from tensorflow.python.framework.test_util) is deprecated and will be removed in a future version.\n",
      "Instructions for updating:\n",
      "Use `tf.config.list_physical_devices('GPU')` instead.\n"
     ]
    },
    {
     "data": {
      "text/plain": [
       "False"
      ]
     },
     "execution_count": 3,
     "metadata": {},
     "output_type": "execute_result"
    }
   ],
   "source": [
    "tf.test.is_gpu_available()"
   ]
  },
  {
   "cell_type": "code",
   "execution_count": 4,
   "metadata": {},
   "outputs": [],
   "source": [
    "import pandas as pd\n",
    "import numpy as np\n",
    "\n",
    "# fix random seed for reproducibility\n",
    "seed = 42\n",
    "np.random.seed(seed)\n",
    "tf.random.set_seed(seed)"
   ]
  },
  {
   "cell_type": "code",
   "execution_count": 7,
   "metadata": {},
   "outputs": [],
   "source": [
    "text_data = pd.read_csv('../speeches_millercenter_preprocessed.csv')"
   ]
  },
  {
   "cell_type": "code",
   "execution_count": 8,
   "metadata": {},
   "outputs": [
    {
     "data": {
      "text/html": [
       "<div>\n",
       "<style scoped>\n",
       "    .dataframe tbody tr th:only-of-type {\n",
       "        vertical-align: middle;\n",
       "    }\n",
       "\n",
       "    .dataframe tbody tr th {\n",
       "        vertical-align: top;\n",
       "    }\n",
       "\n",
       "    .dataframe thead th {\n",
       "        text-align: right;\n",
       "    }\n",
       "</style>\n",
       "<table border=\"1\" class=\"dataframe\">\n",
       "  <thead>\n",
       "    <tr style=\"text-align: right;\">\n",
       "      <th></th>\n",
       "      <th>Transcript</th>\n",
       "      <th>Summary</th>\n",
       "      <th>President</th>\n",
       "      <th>Source</th>\n",
       "      <th>Date</th>\n",
       "      <th>URL</th>\n",
       "      <th>Word Count</th>\n",
       "      <th>Affiliation</th>\n",
       "      <th>Label</th>\n",
       "    </tr>\n",
       "  </thead>\n",
       "  <tbody>\n",
       "    <tr>\n",
       "      <th>0</th>\n",
       "      <td>34th time speak oval office year soon time wan...</td>\n",
       "      <td>In this broadcast from the Oval Office, Presid...</td>\n",
       "      <td>Ronald Reagan</td>\n",
       "      <td>National Archives</td>\n",
       "      <td>January 11, 1989</td>\n",
       "      <td>https://millercenter.org/the-presidency/presid...</td>\n",
       "      <td>3289</td>\n",
       "      <td>Republican</td>\n",
       "      <td>0</td>\n",
       "    </tr>\n",
       "  </tbody>\n",
       "</table>\n",
       "</div>"
      ],
      "text/plain": [
       "                                          Transcript  \\\n",
       "0  34th time speak oval office year soon time wan...   \n",
       "\n",
       "                                             Summary      President  \\\n",
       "0  In this broadcast from the Oval Office, Presid...  Ronald Reagan   \n",
       "\n",
       "              Source              Date  \\\n",
       "0  National Archives  January 11, 1989   \n",
       "\n",
       "                                                 URL  Word Count Affiliation  \\\n",
       "0  https://millercenter.org/the-presidency/presid...        3289  Republican   \n",
       "\n",
       "   Label  \n",
       "0      0  "
      ]
     },
     "execution_count": 8,
     "metadata": {},
     "output_type": "execute_result"
    }
   ],
   "source": [
    "text_data.head(1)"
   ]
  },
  {
   "cell_type": "code",
   "execution_count": 9,
   "metadata": {},
   "outputs": [
    {
     "data": {
      "text/plain": [
       "((261,), (130,))"
      ]
     },
     "execution_count": 9,
     "metadata": {},
     "output_type": "execute_result"
    }
   ],
   "source": [
    "# train test split\n",
    "from sklearn.model_selection import train_test_split\n",
    "train_corpus, test_corpus, train_label_nums, test_label_nums, train_label_names, test_label_names = train_test_split(text_data['Transcript'],\n",
    "                                         np.array(text_data['Label']),\n",
    "                                         np.array(text_data['Affiliation']),\n",
    "                                         test_size=0.33, random_state=42)\n",
    "train_corpus.shape, test_corpus.shape"
   ]
  },
  {
   "cell_type": "code",
   "execution_count": 10,
   "metadata": {},
   "outputs": [],
   "source": [
    "# Tokenize training speeches\n",
    "t = tf.keras.preprocessing.text.Tokenizer(oov_token='<UNK>')\n",
    "# fit the tokenizer on the documents\n",
    "t.fit_on_texts(train_corpus)\n",
    "t.word_index['<PAD>'] = 0"
   ]
  },
  {
   "cell_type": "code",
   "execution_count": 13,
   "metadata": {},
   "outputs": [
    {
     "name": "stdout",
     "output_type": "stream",
     "text": [
      "('ascend', 15647) ('<PAD>', 0) 1\n"
     ]
    }
   ],
   "source": [
    "print(max([(k, v) for k, v in t.word_index.items()], key = lambda x:x[1]), \n",
    "      min([(k, v) for k, v in t.word_index.items()], key = lambda x:x[1]), \n",
    "      t.word_index['<UNK>'])"
   ]
  },
  {
   "cell_type": "code",
   "execution_count": 14,
   "metadata": {},
   "outputs": [],
   "source": [
    "train_sequences = t.texts_to_sequences(train_corpus)\n",
    "test_sequences = t.texts_to_sequences(test_corpus)"
   ]
  },
  {
   "cell_type": "code",
   "execution_count": 15,
   "metadata": {},
   "outputs": [
    {
     "name": "stdout",
     "output_type": "stream",
     "text": [
      "Vocabulary size=15648\n",
      "Number of Documents=261\n"
     ]
    }
   ],
   "source": [
    "print(\"Vocabulary size={}\".format(len(t.word_index)))\n",
    "print(\"Number of Documents={}\".format(t.document_count))"
   ]
  },
  {
   "cell_type": "code",
   "execution_count": null,
   "metadata": {},
   "outputs": [],
   "source": [
    "# What does the below do? Limit the vector length? And why do we need it?"
   ]
  },
  {
   "cell_type": "code",
   "execution_count": 21,
   "metadata": {},
   "outputs": [
    {
     "data": {
      "text/plain": [
       "((261, 500), (130, 500))"
      ]
     },
     "execution_count": 21,
     "metadata": {},
     "output_type": "execute_result"
    }
   ],
   "source": [
    "MAX_SEQUENCE_LENGTH = 500\n",
    "# pad dataset to a maximum review length in words\n",
    "X_train = tf.keras.preprocessing.sequence.pad_sequences(train_sequences, maxlen=MAX_SEQUENCE_LENGTH)\n",
    "X_test = tf.keras.preprocessing.sequence.pad_sequences(test_sequences, maxlen=MAX_SEQUENCE_LENGTH)\n",
    "X_train.shape, X_test.shape"
   ]
  },
  {
   "cell_type": "code",
   "execution_count": 22,
   "metadata": {},
   "outputs": [],
   "source": [
    "VOCAB_SIZE = len(t.word_index)\n",
    "EMBED_SIZE = 300\n",
    "EPOCHS=100\n",
    "BATCH_SIZE=128"
   ]
  },
  {
   "cell_type": "code",
   "execution_count": 28,
   "metadata": {},
   "outputs": [],
   "source": [
    "word2idx = t.word_index\n",
    "# Word vectors downloaded from https://fasttext.cc/docs/en/english-vectors.html\n",
    "FASTTEXT_INIT_EMBEDDINGS_FILE = '../wiki-news-300d-1M-subword.vec'\n",
    "\n",
    "\n",
    "def load_pretrained_embeddings(word_to_index, max_features, embedding_size, embedding_file_path):    \n",
    "    \n",
    "    def get_coefs(word,*arr): \n",
    "        return word, np.asarray(arr, dtype='float32')\n",
    "    \n",
    "    embeddings_index = dict(get_coefs(*row.split(\" \")) \n",
    "                                for row in open(embedding_file_path, encoding=\"utf8\", errors='ignore') \n",
    "                                    if len(row)>100)\n",
    "\n",
    "    all_embs = np.stack(embeddings_index.values())\n",
    "    emb_mean, emb_std = all_embs.mean(), all_embs.std()\n",
    "    embed_size = all_embs.shape[1]\n",
    "\n",
    "    nb_words = min(max_features, len(word_to_index))\n",
    "    embedding_matrix = np.random.normal(emb_mean, emb_std, (nb_words, embedding_size))\n",
    "    \n",
    "    for word, idx in word_to_index.items():\n",
    "        if idx >= max_features: \n",
    "            continue\n",
    "        embedding_vector = embeddings_index.get(word)\n",
    "        if embedding_vector is not None: \n",
    "            embedding_matrix[idx] = embedding_vector\n",
    "\n",
    "    return embedding_matrix"
   ]
  },
  {
   "cell_type": "code",
   "execution_count": null,
   "metadata": {},
   "outputs": [],
   "source": [
    "# What does exactly the below? It uses the embeddings to create the corpus vector representation?"
   ]
  },
  {
   "cell_type": "code",
   "execution_count": 29,
   "metadata": {},
   "outputs": [
    {
     "name": "stderr",
     "output_type": "stream",
     "text": [
      "/opt/anaconda3/envs/nlp_capstone/lib/python3.7/site-packages/IPython/core/interactiveshell.py:3331: FutureWarning: arrays to stack must be passed as a \"sequence\" type such as list or tuple. Support for non-sequence iterables such as generators is deprecated as of NumPy 1.16 and will raise an error in the future.\n",
      "  exec(code_obj, self.user_global_ns, self.user_ns)\n"
     ]
    },
    {
     "data": {
      "text/plain": [
       "(15648, 300)"
      ]
     },
     "execution_count": 29,
     "metadata": {},
     "output_type": "execute_result"
    }
   ],
   "source": [
    "ft_embeddings = load_pretrained_embeddings(word_to_index=word2idx, \n",
    "                                           max_features=VOCAB_SIZE, \n",
    "                                           embedding_size=EMBED_SIZE, \n",
    "                                           embedding_file_path=FASTTEXT_INIT_EMBEDDINGS_FILE)\n",
    "ft_embeddings.shape"
   ]
  },
  {
   "cell_type": "code",
   "execution_count": 30,
   "metadata": {},
   "outputs": [
    {
     "name": "stdout",
     "output_type": "stream",
     "text": [
      "Model: \"sequential\"\n",
      "_________________________________________________________________\n",
      "Layer (type)                 Output Shape              Param #   \n",
      "=================================================================\n",
      "embedding (Embedding)        (None, 500, 300)          4694400   \n",
      "_________________________________________________________________\n",
      "conv1d (Conv1D)              (None, 500, 256)          384256    \n",
      "_________________________________________________________________\n",
      "max_pooling1d (MaxPooling1D) (None, 100, 256)          0         \n",
      "_________________________________________________________________\n",
      "conv1d_1 (Conv1D)            (None, 100, 128)          163968    \n",
      "_________________________________________________________________\n",
      "max_pooling1d_1 (MaxPooling1 (None, 20, 128)           0         \n",
      "_________________________________________________________________\n",
      "conv1d_2 (Conv1D)            (None, 20, 64)            41024     \n",
      "_________________________________________________________________\n",
      "max_pooling1d_2 (MaxPooling1 (None, 4, 64)             0         \n",
      "_________________________________________________________________\n",
      "flatten (Flatten)            (None, 256)               0         \n",
      "_________________________________________________________________\n",
      "dense (Dense)                (None, 256)               65792     \n",
      "_________________________________________________________________\n",
      "dropout (Dropout)            (None, 256)               0         \n",
      "_________________________________________________________________\n",
      "dense_1 (Dense)              (None, 256)               65792     \n",
      "_________________________________________________________________\n",
      "dropout_1 (Dropout)          (None, 256)               0         \n",
      "_________________________________________________________________\n",
      "dense_2 (Dense)              (None, 1)                 257       \n",
      "=================================================================\n",
      "Total params: 5,415,489\n",
      "Trainable params: 5,415,489\n",
      "Non-trainable params: 0\n",
      "_________________________________________________________________\n"
     ]
    }
   ],
   "source": [
    "model = tf.keras.models.Sequential()\n",
    "\n",
    "model.add(tf.keras.layers.Embedding(VOCAB_SIZE, EMBED_SIZE,\n",
    "                                    weights=[ft_embeddings],\n",
    "                                    trainable=True,\n",
    "                                    input_length=MAX_SEQUENCE_LENGTH))\n",
    "\n",
    "model.add(tf.keras.layers.Conv1D(filters=256, kernel_size=5, padding='same', activation='relu'))\n",
    "model.add(tf.keras.layers.MaxPooling1D(pool_size=5))\n",
    "\n",
    "model.add(tf.keras.layers.Conv1D(filters=128, kernel_size=5, padding='same', activation='relu'))\n",
    "model.add(tf.keras.layers.MaxPooling1D(pool_size=5))\n",
    "\n",
    "model.add(tf.keras.layers.Conv1D(filters=64, kernel_size=5, padding='same', activation='relu'))\n",
    "model.add(tf.keras.layers.MaxPooling1D(pool_size=5))\n",
    "\n",
    "model.add(tf.keras.layers.Flatten())\n",
    "\n",
    "model.add(tf.keras.layers.Dense(256, activation='relu'))\n",
    "model.add(tf.keras.layers.Dropout(0.25))\n",
    "model.add(tf.keras.layers.Dense(256, activation='relu'))\n",
    "model.add(tf.keras.layers.Dropout(0.25))\n",
    "model.add(tf.keras.layers.Dense(1, activation='sigmoid'))\n",
    "\n",
    "model.compile(loss='binary_crossentropy', optimizer='adam', metrics=['accuracy'])\n",
    "model.summary()"
   ]
  },
  {
   "cell_type": "code",
   "execution_count": null,
   "metadata": {},
   "outputs": [],
   "source": [
    "# What's the validation dataset used for?"
   ]
  },
  {
   "cell_type": "code",
   "execution_count": 32,
   "metadata": {},
   "outputs": [
    {
     "name": "stdout",
     "output_type": "stream",
     "text": [
      "Epoch 1/100\n",
      "3/3 [==============================] - ETA: 0s - loss: 0.6701 - accuracy: 0.6360WARNING:tensorflow:Early stopping conditioned on metric `val_loss` which is not available. Available metrics are: loss,accuracy\n",
      "3/3 [==============================] - 1s 239ms/step - loss: 0.6701 - accuracy: 0.6360\n",
      "Epoch 2/100\n",
      "3/3 [==============================] - ETA: 0s - loss: 0.7416 - accuracy: 0.6398WARNING:tensorflow:Early stopping conditioned on metric `val_loss` which is not available. Available metrics are: loss,accuracy\n",
      "3/3 [==============================] - 1s 237ms/step - loss: 0.7416 - accuracy: 0.6398\n",
      "Epoch 3/100\n",
      "3/3 [==============================] - ETA: 0s - loss: 0.6441 - accuracy: 0.6398WARNING:tensorflow:Early stopping conditioned on metric `val_loss` which is not available. Available metrics are: loss,accuracy\n",
      "3/3 [==============================] - 1s 235ms/step - loss: 0.6441 - accuracy: 0.6398\n",
      "Epoch 4/100\n",
      "3/3 [==============================] - ETA: 0s - loss: 0.6598 - accuracy: 0.6398WARNING:tensorflow:Early stopping conditioned on metric `val_loss` which is not available. Available metrics are: loss,accuracy\n",
      "3/3 [==============================] - 1s 244ms/step - loss: 0.6598 - accuracy: 0.6398\n",
      "Epoch 5/100\n",
      "3/3 [==============================] - ETA: 0s - loss: 0.6542 - accuracy: 0.6398WARNING:tensorflow:Early stopping conditioned on metric `val_loss` which is not available. Available metrics are: loss,accuracy\n",
      "3/3 [==============================] - 1s 241ms/step - loss: 0.6542 - accuracy: 0.6398\n",
      "Epoch 6/100\n",
      "3/3 [==============================] - ETA: 0s - loss: 0.6368 - accuracy: 0.6398WARNING:tensorflow:Early stopping conditioned on metric `val_loss` which is not available. Available metrics are: loss,accuracy\n",
      "3/3 [==============================] - 1s 238ms/step - loss: 0.6368 - accuracy: 0.6398\n",
      "Epoch 7/100\n",
      "3/3 [==============================] - ETA: 0s - loss: 0.6299 - accuracy: 0.6398WARNING:tensorflow:Early stopping conditioned on metric `val_loss` which is not available. Available metrics are: loss,accuracy\n",
      "3/3 [==============================] - 1s 245ms/step - loss: 0.6299 - accuracy: 0.6398\n",
      "Epoch 8/100\n",
      "3/3 [==============================] - ETA: 0s - loss: 0.6230 - accuracy: 0.6398WARNING:tensorflow:Early stopping conditioned on metric `val_loss` which is not available. Available metrics are: loss,accuracy\n",
      "3/3 [==============================] - 1s 264ms/step - loss: 0.6230 - accuracy: 0.6398\n",
      "Epoch 9/100\n",
      "3/3 [==============================] - ETA: 0s - loss: 0.6012 - accuracy: 0.6398WARNING:tensorflow:Early stopping conditioned on metric `val_loss` which is not available. Available metrics are: loss,accuracy\n",
      "3/3 [==============================] - 1s 290ms/step - loss: 0.6012 - accuracy: 0.6398\n",
      "Epoch 10/100\n",
      "3/3 [==============================] - ETA: 0s - loss: 0.5734 - accuracy: 0.6398WARNING:tensorflow:Early stopping conditioned on metric `val_loss` which is not available. Available metrics are: loss,accuracy\n",
      "3/3 [==============================] - 1s 254ms/step - loss: 0.5734 - accuracy: 0.6398\n",
      "Epoch 11/100\n",
      "3/3 [==============================] - ETA: 0s - loss: 0.5532 - accuracy: 0.6398WARNING:tensorflow:Early stopping conditioned on metric `val_loss` which is not available. Available metrics are: loss,accuracy\n",
      "3/3 [==============================] - 1s 249ms/step - loss: 0.5532 - accuracy: 0.6398\n",
      "Epoch 12/100\n",
      "3/3 [==============================] - ETA: 0s - loss: 0.5292 - accuracy: 0.6398WARNING:tensorflow:Early stopping conditioned on metric `val_loss` which is not available. Available metrics are: loss,accuracy\n",
      "3/3 [==============================] - 1s 297ms/step - loss: 0.5292 - accuracy: 0.6398\n",
      "Epoch 13/100\n",
      "3/3 [==============================] - ETA: 0s - loss: 0.5043 - accuracy: 0.6398WARNING:tensorflow:Early stopping conditioned on metric `val_loss` which is not available. Available metrics are: loss,accuracy\n",
      "3/3 [==============================] - 1s 282ms/step - loss: 0.5043 - accuracy: 0.6398\n",
      "Epoch 14/100\n",
      "3/3 [==============================] - ETA: 0s - loss: 0.4607 - accuracy: 0.6705WARNING:tensorflow:Early stopping conditioned on metric `val_loss` which is not available. Available metrics are: loss,accuracy\n",
      "3/3 [==============================] - 1s 284ms/step - loss: 0.4607 - accuracy: 0.6705\n",
      "Epoch 15/100\n",
      "3/3 [==============================] - ETA: 0s - loss: 0.4240 - accuracy: 0.6437WARNING:tensorflow:Early stopping conditioned on metric `val_loss` which is not available. Available metrics are: loss,accuracy\n",
      "3/3 [==============================] - 1s 268ms/step - loss: 0.4240 - accuracy: 0.6437\n",
      "Epoch 16/100\n",
      "3/3 [==============================] - ETA: 0s - loss: 0.3194 - accuracy: 0.8544WARNING:tensorflow:Early stopping conditioned on metric `val_loss` which is not available. Available metrics are: loss,accuracy\n",
      "3/3 [==============================] - 1s 257ms/step - loss: 0.3194 - accuracy: 0.8544\n",
      "Epoch 17/100\n",
      "3/3 [==============================] - ETA: 0s - loss: 0.2418 - accuracy: 0.9732WARNING:tensorflow:Early stopping conditioned on metric `val_loss` which is not available. Available metrics are: loss,accuracy\n",
      "3/3 [==============================] - 1s 288ms/step - loss: 0.2418 - accuracy: 0.9732\n",
      "Epoch 18/100\n",
      "3/3 [==============================] - ETA: 0s - loss: 0.1655 - accuracy: 0.9962WARNING:tensorflow:Early stopping conditioned on metric `val_loss` which is not available. Available metrics are: loss,accuracy\n",
      "3/3 [==============================] - 1s 268ms/step - loss: 0.1655 - accuracy: 0.9962\n",
      "Epoch 19/100\n",
      "3/3 [==============================] - ETA: 0s - loss: 0.0935 - accuracy: 1.0000WARNING:tensorflow:Early stopping conditioned on metric `val_loss` which is not available. Available metrics are: loss,accuracy\n",
      "3/3 [==============================] - 1s 248ms/step - loss: 0.0935 - accuracy: 1.0000\n",
      "Epoch 20/100\n",
      "3/3 [==============================] - ETA: 0s - loss: 0.0285 - accuracy: 1.0000WARNING:tensorflow:Early stopping conditioned on metric `val_loss` which is not available. Available metrics are: loss,accuracy\n",
      "3/3 [==============================] - 1s 262ms/step - loss: 0.0285 - accuracy: 1.0000\n",
      "Epoch 21/100\n",
      "3/3 [==============================] - ETA: 0s - loss: 0.0126 - accuracy: 1.0000WARNING:tensorflow:Early stopping conditioned on metric `val_loss` which is not available. Available metrics are: loss,accuracy\n",
      "3/3 [==============================] - 1s 247ms/step - loss: 0.0126 - accuracy: 1.0000\n",
      "Epoch 22/100\n",
      "3/3 [==============================] - ETA: 0s - loss: 0.0029 - accuracy: 1.0000WARNING:tensorflow:Early stopping conditioned on metric `val_loss` which is not available. Available metrics are: loss,accuracy\n",
      "3/3 [==============================] - 1s 252ms/step - loss: 0.0029 - accuracy: 1.0000\n",
      "Epoch 23/100\n",
      "3/3 [==============================] - ETA: 0s - loss: 0.0011 - accuracy: 1.0000  WARNING:tensorflow:Early stopping conditioned on metric `val_loss` which is not available. Available metrics are: loss,accuracy\n",
      "3/3 [==============================] - 1s 259ms/step - loss: 0.0011 - accuracy: 1.0000\n",
      "Epoch 24/100\n",
      "3/3 [==============================] - ETA: 0s - loss: 0.0068 - accuracy: 0.9962WARNING:tensorflow:Early stopping conditioned on metric `val_loss` which is not available. Available metrics are: loss,accuracy\n",
      "3/3 [==============================] - 1s 249ms/step - loss: 0.0068 - accuracy: 0.9962\n",
      "Epoch 25/100\n",
      "3/3 [==============================] - ETA: 0s - loss: 0.0089 - accuracy: 0.9962WARNING:tensorflow:Early stopping conditioned on metric `val_loss` which is not available. Available metrics are: loss,accuracy\n",
      "3/3 [==============================] - 1s 247ms/step - loss: 0.0089 - accuracy: 0.9962\n",
      "Epoch 26/100\n",
      "3/3 [==============================] - ETA: 0s - loss: 1.1166 - accuracy: 0.7893WARNING:tensorflow:Early stopping conditioned on metric `val_loss` which is not available. Available metrics are: loss,accuracy\n",
      "3/3 [==============================] - 1s 241ms/step - loss: 1.1166 - accuracy: 0.7893\n",
      "Epoch 27/100\n",
      "3/3 [==============================] - ETA: 0s - loss: 3.6628 - accuracy: 0.6935WARNING:tensorflow:Early stopping conditioned on metric `val_loss` which is not available. Available metrics are: loss,accuracy\n"
     ]
    },
    {
     "name": "stdout",
     "output_type": "stream",
     "text": [
      "3/3 [==============================] - 1s 241ms/step - loss: 3.6628 - accuracy: 0.6935\n",
      "Epoch 28/100\n",
      "3/3 [==============================] - ETA: 0s - loss: 0.2113 - accuracy: 0.9310WARNING:tensorflow:Early stopping conditioned on metric `val_loss` which is not available. Available metrics are: loss,accuracy\n",
      "3/3 [==============================] - 1s 288ms/step - loss: 0.2113 - accuracy: 0.9310\n",
      "Epoch 29/100\n",
      "3/3 [==============================] - ETA: 0s - loss: 1.2725 - accuracy: 0.5785WARNING:tensorflow:Early stopping conditioned on metric `val_loss` which is not available. Available metrics are: loss,accuracy\n",
      "3/3 [==============================] - 1s 257ms/step - loss: 1.2725 - accuracy: 0.5785\n",
      "Epoch 30/100\n",
      "3/3 [==============================] - ETA: 0s - loss: 0.1822 - accuracy: 0.9349WARNING:tensorflow:Early stopping conditioned on metric `val_loss` which is not available. Available metrics are: loss,accuracy\n",
      "3/3 [==============================] - 1s 245ms/step - loss: 0.1822 - accuracy: 0.9349\n",
      "Epoch 31/100\n",
      "3/3 [==============================] - ETA: 0s - loss: 0.1686 - accuracy: 0.9962WARNING:tensorflow:Early stopping conditioned on metric `val_loss` which is not available. Available metrics are: loss,accuracy\n",
      "3/3 [==============================] - 1s 250ms/step - loss: 0.1686 - accuracy: 0.9962\n",
      "Epoch 32/100\n",
      "3/3 [==============================] - ETA: 0s - loss: 0.1942 - accuracy: 0.9962WARNING:tensorflow:Early stopping conditioned on metric `val_loss` which is not available. Available metrics are: loss,accuracy\n",
      "3/3 [==============================] - 1s 252ms/step - loss: 0.1942 - accuracy: 0.9962\n",
      "Epoch 33/100\n",
      "3/3 [==============================] - ETA: 0s - loss: 0.1558 - accuracy: 0.9962WARNING:tensorflow:Early stopping conditioned on metric `val_loss` which is not available. Available metrics are: loss,accuracy\n",
      "3/3 [==============================] - 1s 238ms/step - loss: 0.1558 - accuracy: 0.9962\n",
      "Epoch 34/100\n",
      "3/3 [==============================] - ETA: 0s - loss: 0.1073 - accuracy: 1.0000WARNING:tensorflow:Early stopping conditioned on metric `val_loss` which is not available. Available metrics are: loss,accuracy\n",
      "3/3 [==============================] - 1s 243ms/step - loss: 0.1073 - accuracy: 1.0000\n",
      "Epoch 35/100\n",
      "3/3 [==============================] - ETA: 0s - loss: 0.0539 - accuracy: 0.9962WARNING:tensorflow:Early stopping conditioned on metric `val_loss` which is not available. Available metrics are: loss,accuracy\n",
      "3/3 [==============================] - 1s 244ms/step - loss: 0.0539 - accuracy: 0.9962\n",
      "Epoch 36/100\n",
      "3/3 [==============================] - ETA: 0s - loss: 0.0235 - accuracy: 0.9923WARNING:tensorflow:Early stopping conditioned on metric `val_loss` which is not available. Available metrics are: loss,accuracy\n",
      "3/3 [==============================] - 1s 273ms/step - loss: 0.0235 - accuracy: 0.9923\n",
      "Epoch 37/100\n",
      "3/3 [==============================] - ETA: 0s - loss: 0.0097 - accuracy: 0.9962WARNING:tensorflow:Early stopping conditioned on metric `val_loss` which is not available. Available metrics are: loss,accuracy\n",
      "3/3 [==============================] - 1s 254ms/step - loss: 0.0097 - accuracy: 0.9962\n",
      "Epoch 38/100\n",
      "3/3 [==============================] - ETA: 0s - loss: 0.0038 - accuracy: 1.0000WARNING:tensorflow:Early stopping conditioned on metric `val_loss` which is not available. Available metrics are: loss,accuracy\n",
      "3/3 [==============================] - 1s 270ms/step - loss: 0.0038 - accuracy: 1.0000\n",
      "Epoch 39/100\n",
      "3/3 [==============================] - ETA: 0s - loss: 9.5299e-04 - accuracy: 1.0000WARNING:tensorflow:Early stopping conditioned on metric `val_loss` which is not available. Available metrics are: loss,accuracy\n",
      "3/3 [==============================] - 1s 252ms/step - loss: 9.5299e-04 - accuracy: 1.0000\n",
      "Epoch 40/100\n",
      "3/3 [==============================] - ETA: 0s - loss: 2.1286e-04 - accuracy: 1.0000WARNING:tensorflow:Early stopping conditioned on metric `val_loss` which is not available. Available metrics are: loss,accuracy\n",
      "3/3 [==============================] - 1s 247ms/step - loss: 2.1286e-04 - accuracy: 1.0000\n",
      "Epoch 41/100\n",
      "3/3 [==============================] - ETA: 0s - loss: 1.2679e-04 - accuracy: 1.0000WARNING:tensorflow:Early stopping conditioned on metric `val_loss` which is not available. Available metrics are: loss,accuracy\n",
      "3/3 [==============================] - 1s 245ms/step - loss: 1.2679e-04 - accuracy: 1.0000\n",
      "Epoch 42/100\n",
      "3/3 [==============================] - ETA: 0s - loss: 2.2025e-04 - accuracy: 1.0000WARNING:tensorflow:Early stopping conditioned on metric `val_loss` which is not available. Available metrics are: loss,accuracy\n",
      "3/3 [==============================] - 1s 244ms/step - loss: 2.2025e-04 - accuracy: 1.0000\n",
      "Epoch 43/100\n",
      "3/3 [==============================] - ETA: 0s - loss: 5.8457e-05 - accuracy: 1.0000WARNING:tensorflow:Early stopping conditioned on metric `val_loss` which is not available. Available metrics are: loss,accuracy\n",
      "3/3 [==============================] - 1s 245ms/step - loss: 5.8457e-05 - accuracy: 1.0000\n",
      "Epoch 44/100\n",
      "3/3 [==============================] - ETA: 0s - loss: 3.4784e-05 - accuracy: 1.0000WARNING:tensorflow:Early stopping conditioned on metric `val_loss` which is not available. Available metrics are: loss,accuracy\n",
      "3/3 [==============================] - 1s 245ms/step - loss: 3.4784e-05 - accuracy: 1.0000\n",
      "Epoch 45/100\n",
      "3/3 [==============================] - ETA: 0s - loss: 1.8961e-05 - accuracy: 1.0000WARNING:tensorflow:Early stopping conditioned on metric `val_loss` which is not available. Available metrics are: loss,accuracy\n",
      "3/3 [==============================] - 1s 237ms/step - loss: 1.8961e-05 - accuracy: 1.0000\n",
      "Epoch 46/100\n",
      "3/3 [==============================] - ETA: 0s - loss: 1.9998e-05 - accuracy: 1.0000WARNING:tensorflow:Early stopping conditioned on metric `val_loss` which is not available. Available metrics are: loss,accuracy\n",
      "3/3 [==============================] - 1s 278ms/step - loss: 1.9998e-05 - accuracy: 1.0000\n",
      "Epoch 47/100\n",
      "3/3 [==============================] - ETA: 0s - loss: 1.5919e-05 - accuracy: 1.0000WARNING:tensorflow:Early stopping conditioned on metric `val_loss` which is not available. Available metrics are: loss,accuracy\n",
      "3/3 [==============================] - 1s 242ms/step - loss: 1.5919e-05 - accuracy: 1.0000\n",
      "Epoch 48/100\n",
      "3/3 [==============================] - ETA: 0s - loss: 1.0967e-05 - accuracy: 1.0000WARNING:tensorflow:Early stopping conditioned on metric `val_loss` which is not available. Available metrics are: loss,accuracy\n",
      "3/3 [==============================] - 1s 241ms/step - loss: 1.0967e-05 - accuracy: 1.0000\n",
      "Epoch 49/100\n",
      "3/3 [==============================] - ETA: 0s - loss: 1.3949e-05 - accuracy: 1.0000WARNING:tensorflow:Early stopping conditioned on metric `val_loss` which is not available. Available metrics are: loss,accuracy\n",
      "3/3 [==============================] - 1s 228ms/step - loss: 1.3949e-05 - accuracy: 1.0000\n",
      "Epoch 50/100\n",
      "3/3 [==============================] - ETA: 0s - loss: 9.1407e-06 - accuracy: 1.0000WARNING:tensorflow:Early stopping conditioned on metric `val_loss` which is not available. Available metrics are: loss,accuracy\n",
      "3/3 [==============================] - 1s 237ms/step - loss: 9.1407e-06 - accuracy: 1.0000\n",
      "Epoch 51/100\n",
      "3/3 [==============================] - ETA: 0s - loss: 1.3824e-05 - accuracy: 1.0000WARNING:tensorflow:Early stopping conditioned on metric `val_loss` which is not available. Available metrics are: loss,accuracy\n",
      "3/3 [==============================] - 1s 237ms/step - loss: 1.3824e-05 - accuracy: 1.0000\n",
      "Epoch 52/100\n",
      "3/3 [==============================] - ETA: 0s - loss: 8.8557e-06 - accuracy: 1.0000WARNING:tensorflow:Early stopping conditioned on metric `val_loss` which is not available. Available metrics are: loss,accuracy\n",
      "3/3 [==============================] - 1s 235ms/step - loss: 8.8557e-06 - accuracy: 1.0000\n",
      "Epoch 53/100\n",
      "3/3 [==============================] - ETA: 0s - loss: 9.0138e-06 - accuracy: 1.0000WARNING:tensorflow:Early stopping conditioned on metric `val_loss` which is not available. Available metrics are: loss,accuracy\n",
      "3/3 [==============================] - 1s 250ms/step - loss: 9.0138e-06 - accuracy: 1.0000\n"
     ]
    },
    {
     "name": "stdout",
     "output_type": "stream",
     "text": [
      "Epoch 54/100\n",
      "3/3 [==============================] - ETA: 0s - loss: 1.4180e-05 - accuracy: 1.0000WARNING:tensorflow:Early stopping conditioned on metric `val_loss` which is not available. Available metrics are: loss,accuracy\n",
      "3/3 [==============================] - 1s 238ms/step - loss: 1.4180e-05 - accuracy: 1.0000\n",
      "Epoch 55/100\n",
      "3/3 [==============================] - ETA: 0s - loss: 1.3748e-05 - accuracy: 1.0000WARNING:tensorflow:Early stopping conditioned on metric `val_loss` which is not available. Available metrics are: loss,accuracy\n",
      "3/3 [==============================] - 1s 282ms/step - loss: 1.3748e-05 - accuracy: 1.0000\n",
      "Epoch 56/100\n",
      "3/3 [==============================] - ETA: 0s - loss: 7.6483e-06 - accuracy: 1.0000WARNING:tensorflow:Early stopping conditioned on metric `val_loss` which is not available. Available metrics are: loss,accuracy\n",
      "3/3 [==============================] - 1s 244ms/step - loss: 7.6483e-06 - accuracy: 1.0000\n",
      "Epoch 57/100\n",
      "3/3 [==============================] - ETA: 0s - loss: 7.3244e-06 - accuracy: 1.0000WARNING:tensorflow:Early stopping conditioned on metric `val_loss` which is not available. Available metrics are: loss,accuracy\n",
      "3/3 [==============================] - 1s 236ms/step - loss: 7.3244e-06 - accuracy: 1.0000\n",
      "Epoch 58/100\n",
      "3/3 [==============================] - ETA: 0s - loss: 8.1446e-06 - accuracy: 1.0000WARNING:tensorflow:Early stopping conditioned on metric `val_loss` which is not available. Available metrics are: loss,accuracy\n",
      "3/3 [==============================] - 1s 246ms/step - loss: 8.1446e-06 - accuracy: 1.0000\n",
      "Epoch 59/100\n",
      "3/3 [==============================] - ETA: 0s - loss: 9.2257e-06 - accuracy: 1.0000WARNING:tensorflow:Early stopping conditioned on metric `val_loss` which is not available. Available metrics are: loss,accuracy\n",
      "3/3 [==============================] - 1s 244ms/step - loss: 9.2257e-06 - accuracy: 1.0000\n",
      "Epoch 60/100\n",
      "3/3 [==============================] - ETA: 0s - loss: 6.7441e-06 - accuracy: 1.0000WARNING:tensorflow:Early stopping conditioned on metric `val_loss` which is not available. Available metrics are: loss,accuracy\n",
      "3/3 [==============================] - 1s 244ms/step - loss: 6.7441e-06 - accuracy: 1.0000\n",
      "Epoch 61/100\n",
      "3/3 [==============================] - ETA: 0s - loss: 4.4597e-06 - accuracy: 1.0000WARNING:tensorflow:Early stopping conditioned on metric `val_loss` which is not available. Available metrics are: loss,accuracy\n",
      "3/3 [==============================] - 1s 237ms/step - loss: 4.4597e-06 - accuracy: 1.0000\n",
      "Epoch 62/100\n",
      "3/3 [==============================] - ETA: 0s - loss: 1.0862e-05 - accuracy: 1.0000WARNING:tensorflow:Early stopping conditioned on metric `val_loss` which is not available. Available metrics are: loss,accuracy\n",
      "3/3 [==============================] - 1s 233ms/step - loss: 1.0862e-05 - accuracy: 1.0000\n",
      "Epoch 63/100\n",
      "3/3 [==============================] - ETA: 0s - loss: 6.5106e-06 - accuracy: 1.0000WARNING:tensorflow:Early stopping conditioned on metric `val_loss` which is not available. Available metrics are: loss,accuracy\n",
      "3/3 [==============================] - 1s 263ms/step - loss: 6.5106e-06 - accuracy: 1.0000\n",
      "Epoch 64/100\n",
      "3/3 [==============================] - ETA: 0s - loss: 8.5547e-06 - accuracy: 1.0000WARNING:tensorflow:Early stopping conditioned on metric `val_loss` which is not available. Available metrics are: loss,accuracy\n",
      "3/3 [==============================] - 1s 243ms/step - loss: 8.5547e-06 - accuracy: 1.0000\n",
      "Epoch 65/100\n",
      "3/3 [==============================] - ETA: 0s - loss: 5.0788e-06 - accuracy: 1.0000WARNING:tensorflow:Early stopping conditioned on metric `val_loss` which is not available. Available metrics are: loss,accuracy\n",
      "3/3 [==============================] - 1s 281ms/step - loss: 5.0788e-06 - accuracy: 1.0000\n",
      "Epoch 66/100\n",
      "3/3 [==============================] - ETA: 0s - loss: 5.0266e-06 - accuracy: 1.0000WARNING:tensorflow:Early stopping conditioned on metric `val_loss` which is not available. Available metrics are: loss,accuracy\n",
      "3/3 [==============================] - 1s 259ms/step - loss: 5.0266e-06 - accuracy: 1.0000\n",
      "Epoch 67/100\n",
      "3/3 [==============================] - ETA: 0s - loss: 1.0576e-05 - accuracy: 1.0000WARNING:tensorflow:Early stopping conditioned on metric `val_loss` which is not available. Available metrics are: loss,accuracy\n",
      "3/3 [==============================] - 1s 271ms/step - loss: 1.0576e-05 - accuracy: 1.0000\n",
      "Epoch 68/100\n",
      "3/3 [==============================] - ETA: 0s - loss: 5.7730e-06 - accuracy: 1.0000WARNING:tensorflow:Early stopping conditioned on metric `val_loss` which is not available. Available metrics are: loss,accuracy\n",
      "3/3 [==============================] - 1s 291ms/step - loss: 5.7730e-06 - accuracy: 1.0000\n",
      "Epoch 69/100\n",
      "3/3 [==============================] - ETA: 0s - loss: 1.9155e-05 - accuracy: 1.0000WARNING:tensorflow:Early stopping conditioned on metric `val_loss` which is not available. Available metrics are: loss,accuracy\n",
      "3/3 [==============================] - 1s 265ms/step - loss: 1.9155e-05 - accuracy: 1.0000\n",
      "Epoch 70/100\n",
      "3/3 [==============================] - ETA: 0s - loss: 8.1681e-06 - accuracy: 1.0000WARNING:tensorflow:Early stopping conditioned on metric `val_loss` which is not available. Available metrics are: loss,accuracy\n",
      "3/3 [==============================] - 1s 246ms/step - loss: 8.1681e-06 - accuracy: 1.0000\n",
      "Epoch 71/100\n",
      "3/3 [==============================] - ETA: 0s - loss: 2.4469e-06 - accuracy: 1.0000WARNING:tensorflow:Early stopping conditioned on metric `val_loss` which is not available. Available metrics are: loss,accuracy\n",
      "3/3 [==============================] - 1s 246ms/step - loss: 2.4469e-06 - accuracy: 1.0000\n",
      "Epoch 72/100\n",
      "3/3 [==============================] - ETA: 0s - loss: 5.2690e-06 - accuracy: 1.0000WARNING:tensorflow:Early stopping conditioned on metric `val_loss` which is not available. Available metrics are: loss,accuracy\n",
      "3/3 [==============================] - 1s 278ms/step - loss: 5.2690e-06 - accuracy: 1.0000\n",
      "Epoch 73/100\n",
      "3/3 [==============================] - ETA: 0s - loss: 3.5921e-06 - accuracy: 1.0000WARNING:tensorflow:Early stopping conditioned on metric `val_loss` which is not available. Available metrics are: loss,accuracy\n",
      "3/3 [==============================] - 1s 273ms/step - loss: 3.5921e-06 - accuracy: 1.0000\n",
      "Epoch 74/100\n",
      "3/3 [==============================] - ETA: 0s - loss: 8.2495e-06 - accuracy: 1.0000WARNING:tensorflow:Early stopping conditioned on metric `val_loss` which is not available. Available metrics are: loss,accuracy\n",
      "3/3 [==============================] - 1s 283ms/step - loss: 8.2495e-06 - accuracy: 1.0000\n",
      "Epoch 75/100\n",
      "3/3 [==============================] - ETA: 0s - loss: 5.3838e-06 - accuracy: 1.0000WARNING:tensorflow:Early stopping conditioned on metric `val_loss` which is not available. Available metrics are: loss,accuracy\n",
      "3/3 [==============================] - 1s 291ms/step - loss: 5.3838e-06 - accuracy: 1.0000\n",
      "Epoch 76/100\n",
      "3/3 [==============================] - ETA: 0s - loss: 6.6663e-06 - accuracy: 1.0000WARNING:tensorflow:Early stopping conditioned on metric `val_loss` which is not available. Available metrics are: loss,accuracy\n",
      "3/3 [==============================] - 1s 258ms/step - loss: 6.6663e-06 - accuracy: 1.0000\n",
      "Epoch 77/100\n",
      "3/3 [==============================] - ETA: 0s - loss: 3.8869e-06 - accuracy: 1.0000WARNING:tensorflow:Early stopping conditioned on metric `val_loss` which is not available. Available metrics are: loss,accuracy\n",
      "3/3 [==============================] - 1s 272ms/step - loss: 3.8869e-06 - accuracy: 1.0000\n",
      "Epoch 78/100\n",
      "3/3 [==============================] - ETA: 0s - loss: 1.0209e-05 - accuracy: 1.0000WARNING:tensorflow:Early stopping conditioned on metric `val_loss` which is not available. Available metrics are: loss,accuracy\n",
      "3/3 [==============================] - 1s 273ms/step - loss: 1.0209e-05 - accuracy: 1.0000\n",
      "Epoch 79/100\n",
      "3/3 [==============================] - ETA: 0s - loss: 4.0962e-06 - accuracy: 1.0000WARNING:tensorflow:Early stopping conditioned on metric `val_loss` which is not available. Available metrics are: loss,accuracy\n",
      "3/3 [==============================] - 1s 280ms/step - loss: 4.0962e-06 - accuracy: 1.0000\n"
     ]
    },
    {
     "name": "stdout",
     "output_type": "stream",
     "text": [
      "Epoch 80/100\n",
      "3/3 [==============================] - ETA: 0s - loss: 7.8105e-06 - accuracy: 1.0000WARNING:tensorflow:Early stopping conditioned on metric `val_loss` which is not available. Available metrics are: loss,accuracy\n",
      "3/3 [==============================] - 1s 276ms/step - loss: 7.8105e-06 - accuracy: 1.0000\n",
      "Epoch 81/100\n",
      "3/3 [==============================] - ETA: 0s - loss: 2.5264e-06 - accuracy: 1.0000WARNING:tensorflow:Early stopping conditioned on metric `val_loss` which is not available. Available metrics are: loss,accuracy\n",
      "3/3 [==============================] - 1s 241ms/step - loss: 2.5264e-06 - accuracy: 1.0000\n",
      "Epoch 82/100\n",
      "3/3 [==============================] - ETA: 0s - loss: 4.6138e-06 - accuracy: 1.0000WARNING:tensorflow:Early stopping conditioned on metric `val_loss` which is not available. Available metrics are: loss,accuracy\n",
      "3/3 [==============================] - 1s 250ms/step - loss: 4.6138e-06 - accuracy: 1.0000\n",
      "Epoch 83/100\n",
      "3/3 [==============================] - ETA: 0s - loss: 8.4155e-06 - accuracy: 1.0000WARNING:tensorflow:Early stopping conditioned on metric `val_loss` which is not available. Available metrics are: loss,accuracy\n",
      "3/3 [==============================] - 1s 248ms/step - loss: 8.4155e-06 - accuracy: 1.0000\n",
      "Epoch 84/100\n",
      "3/3 [==============================] - ETA: 0s - loss: 3.7395e-06 - accuracy: 1.0000WARNING:tensorflow:Early stopping conditioned on metric `val_loss` which is not available. Available metrics are: loss,accuracy\n",
      "3/3 [==============================] - 1s 261ms/step - loss: 3.7395e-06 - accuracy: 1.0000\n",
      "Epoch 85/100\n",
      "3/3 [==============================] - ETA: 0s - loss: 2.3582e-06 - accuracy: 1.0000WARNING:tensorflow:Early stopping conditioned on metric `val_loss` which is not available. Available metrics are: loss,accuracy\n",
      "3/3 [==============================] - 1s 269ms/step - loss: 2.3582e-06 - accuracy: 1.0000\n",
      "Epoch 86/100\n",
      "3/3 [==============================] - ETA: 0s - loss: 4.2964e-06 - accuracy: 1.0000WARNING:tensorflow:Early stopping conditioned on metric `val_loss` which is not available. Available metrics are: loss,accuracy\n",
      "3/3 [==============================] - 1s 305ms/step - loss: 4.2964e-06 - accuracy: 1.0000\n",
      "Epoch 87/100\n",
      "3/3 [==============================] - ETA: 0s - loss: 5.9490e-06 - accuracy: 1.0000WARNING:tensorflow:Early stopping conditioned on metric `val_loss` which is not available. Available metrics are: loss,accuracy\n",
      "3/3 [==============================] - 1s 298ms/step - loss: 5.9490e-06 - accuracy: 1.0000\n",
      "Epoch 88/100\n",
      "3/3 [==============================] - ETA: 0s - loss: 6.7970e-06 - accuracy: 1.0000WARNING:tensorflow:Early stopping conditioned on metric `val_loss` which is not available. Available metrics are: loss,accuracy\n",
      "3/3 [==============================] - 1s 274ms/step - loss: 6.7970e-06 - accuracy: 1.0000\n",
      "Epoch 89/100\n",
      "3/3 [==============================] - ETA: 0s - loss: 3.7038e-06 - accuracy: 1.0000WARNING:tensorflow:Early stopping conditioned on metric `val_loss` which is not available. Available metrics are: loss,accuracy\n",
      "3/3 [==============================] - 1s 243ms/step - loss: 3.7038e-06 - accuracy: 1.0000\n",
      "Epoch 90/100\n",
      "3/3 [==============================] - ETA: 0s - loss: 5.4419e-06 - accuracy: 1.0000WARNING:tensorflow:Early stopping conditioned on metric `val_loss` which is not available. Available metrics are: loss,accuracy\n",
      "3/3 [==============================] - 1s 247ms/step - loss: 5.4419e-06 - accuracy: 1.0000\n",
      "Epoch 91/100\n",
      "3/3 [==============================] - ETA: 0s - loss: 4.7890e-06 - accuracy: 1.0000WARNING:tensorflow:Early stopping conditioned on metric `val_loss` which is not available. Available metrics are: loss,accuracy\n",
      "3/3 [==============================] - 1s 242ms/step - loss: 4.7890e-06 - accuracy: 1.0000\n",
      "Epoch 92/100\n",
      "3/3 [==============================] - ETA: 0s - loss: 4.2089e-06 - accuracy: 1.0000WARNING:tensorflow:Early stopping conditioned on metric `val_loss` which is not available. Available metrics are: loss,accuracy\n",
      "3/3 [==============================] - 1s 242ms/step - loss: 4.2089e-06 - accuracy: 1.0000\n",
      "Epoch 93/100\n",
      "3/3 [==============================] - ETA: 0s - loss: 2.7339e-06 - accuracy: 1.0000WARNING:tensorflow:Early stopping conditioned on metric `val_loss` which is not available. Available metrics are: loss,accuracy\n",
      "3/3 [==============================] - 1s 242ms/step - loss: 2.7339e-06 - accuracy: 1.0000\n",
      "Epoch 94/100\n",
      "3/3 [==============================] - ETA: 0s - loss: 2.6065e-06 - accuracy: 1.0000WARNING:tensorflow:Early stopping conditioned on metric `val_loss` which is not available. Available metrics are: loss,accuracy\n",
      "3/3 [==============================] - 1s 239ms/step - loss: 2.6065e-06 - accuracy: 1.0000\n",
      "Epoch 95/100\n",
      "3/3 [==============================] - ETA: 0s - loss: 9.4912e-06 - accuracy: 1.0000WARNING:tensorflow:Early stopping conditioned on metric `val_loss` which is not available. Available metrics are: loss,accuracy\n",
      "3/3 [==============================] - 1s 244ms/step - loss: 9.4912e-06 - accuracy: 1.0000\n",
      "Epoch 96/100\n",
      "3/3 [==============================] - ETA: 0s - loss: 3.3124e-06 - accuracy: 1.0000WARNING:tensorflow:Early stopping conditioned on metric `val_loss` which is not available. Available metrics are: loss,accuracy\n",
      "3/3 [==============================] - 1s 238ms/step - loss: 3.3124e-06 - accuracy: 1.0000\n",
      "Epoch 97/100\n",
      "3/3 [==============================] - ETA: 0s - loss: 4.9501e-06 - accuracy: 1.0000WARNING:tensorflow:Early stopping conditioned on metric `val_loss` which is not available. Available metrics are: loss,accuracy\n",
      "3/3 [==============================] - 1s 235ms/step - loss: 4.9501e-06 - accuracy: 1.0000\n",
      "Epoch 98/100\n",
      "3/3 [==============================] - ETA: 0s - loss: 1.2383e-05 - accuracy: 1.0000WARNING:tensorflow:Early stopping conditioned on metric `val_loss` which is not available. Available metrics are: loss,accuracy\n",
      "3/3 [==============================] - 1s 244ms/step - loss: 1.2383e-05 - accuracy: 1.0000\n",
      "Epoch 99/100\n",
      "3/3 [==============================] - ETA: 0s - loss: 4.8012e-06 - accuracy: 1.0000WARNING:tensorflow:Early stopping conditioned on metric `val_loss` which is not available. Available metrics are: loss,accuracy\n",
      "3/3 [==============================] - 1s 238ms/step - loss: 4.8012e-06 - accuracy: 1.0000\n",
      "Epoch 100/100\n",
      "3/3 [==============================] - ETA: 0s - loss: 1.7271e-05 - accuracy: 1.0000WARNING:tensorflow:Early stopping conditioned on metric `val_loss` which is not available. Available metrics are: loss,accuracy\n",
      "3/3 [==============================] - 1s 237ms/step - loss: 1.7271e-05 - accuracy: 1.0000\n"
     ]
    },
    {
     "data": {
      "text/plain": [
       "<tensorflow.python.keras.callbacks.History at 0x1a3f09f310>"
      ]
     },
     "execution_count": 32,
     "metadata": {},
     "output_type": "execute_result"
    }
   ],
   "source": [
    "# Fit the model\n",
    "es = tf.keras.callbacks.EarlyStopping(monitor='val_loss', \n",
    "                                      patience=3,\n",
    "                                      restore_best_weights=True,\n",
    "                                      verbose=1)\n",
    "\n",
    "model.fit(X_train, train_label_nums, \n",
    "#           validation_data=(X_val, val_sentiments),\n",
    "          epochs=EPOCHS, \n",
    "          batch_size=BATCH_SIZE, \n",
    "          shuffle=True,\n",
    "          callbacks=[es],\n",
    "          verbose=1)"
   ]
  },
  {
   "cell_type": "code",
   "execution_count": 44,
   "metadata": {},
   "outputs": [
    {
     "name": "stdout",
     "output_type": "stream",
     "text": [
      "Accuracy: 63.08%\n",
      "              precision    recall  f1-score   support\n",
      "\n",
      "           0       0.57      0.65      0.61        57\n",
      "           1       0.69      0.62      0.65        73\n",
      "\n",
      "    accuracy                           0.63       130\n",
      "   macro avg       0.63      0.63      0.63       130\n",
      "weighted avg       0.64      0.63      0.63       130\n",
      "\n"
     ]
    },
    {
     "data": {
      "text/html": [
       "<div>\n",
       "<style scoped>\n",
       "    .dataframe tbody tr th:only-of-type {\n",
       "        vertical-align: middle;\n",
       "    }\n",
       "\n",
       "    .dataframe tbody tr th {\n",
       "        vertical-align: top;\n",
       "    }\n",
       "\n",
       "    .dataframe thead th {\n",
       "        text-align: right;\n",
       "    }\n",
       "</style>\n",
       "<table border=\"1\" class=\"dataframe\">\n",
       "  <thead>\n",
       "    <tr style=\"text-align: right;\">\n",
       "      <th></th>\n",
       "      <th>0</th>\n",
       "      <th>1</th>\n",
       "    </tr>\n",
       "  </thead>\n",
       "  <tbody>\n",
       "    <tr>\n",
       "      <th>0</th>\n",
       "      <td>37</td>\n",
       "      <td>20</td>\n",
       "    </tr>\n",
       "    <tr>\n",
       "      <th>1</th>\n",
       "      <td>28</td>\n",
       "      <td>45</td>\n",
       "    </tr>\n",
       "  </tbody>\n",
       "</table>\n",
       "</div>"
      ],
      "text/plain": [
       "    0   1\n",
       "0  37  20\n",
       "1  28  45"
      ]
     },
     "execution_count": 44,
     "metadata": {},
     "output_type": "execute_result"
    }
   ],
   "source": [
    "from sklearn.metrics import confusion_matrix, classification_report, accuracy_score\n",
    "predictions = model.predict_classes(X_test, batch_size=2048, verbose=0).ravel()\n",
    "\n",
    "print(\"Accuracy: %.2f%%\" % (accuracy_score(test_label_nums.astype(int), predictions)*100))\n",
    "print(classification_report(test_label_nums, predictions))\n",
    "pd.DataFrame(confusion_matrix(test_label_nums, predictions))"
   ]
  }
 ],
 "metadata": {
  "kernelspec": {
   "display_name": "Python 3",
   "language": "python",
   "name": "python3"
  },
  "language_info": {
   "codemirror_mode": {
    "name": "ipython",
    "version": 3
   },
   "file_extension": ".py",
   "mimetype": "text/x-python",
   "name": "python",
   "nbconvert_exporter": "python",
   "pygments_lexer": "ipython3",
   "version": "3.7.7"
  }
 },
 "nbformat": 4,
 "nbformat_minor": 4
}
