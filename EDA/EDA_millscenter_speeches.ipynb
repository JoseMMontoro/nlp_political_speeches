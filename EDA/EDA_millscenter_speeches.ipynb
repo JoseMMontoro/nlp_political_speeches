{
 "cells": [
  {
   "cell_type": "code",
   "execution_count": 2,
   "metadata": {},
   "outputs": [],
   "source": [
    "import pandas as pd\n",
    "import seaborn as sns"
   ]
  },
  {
   "cell_type": "code",
   "execution_count": 11,
   "metadata": {},
   "outputs": [],
   "source": [
    "speeches = pd.read_csv('speeches_millercenter_preprocessed.csv')"
   ]
  },
  {
   "cell_type": "code",
   "execution_count": 12,
   "metadata": {},
   "outputs": [
    {
     "data": {
      "text/html": [
       "<div>\n",
       "<style scoped>\n",
       "    .dataframe tbody tr th:only-of-type {\n",
       "        vertical-align: middle;\n",
       "    }\n",
       "\n",
       "    .dataframe tbody tr th {\n",
       "        vertical-align: top;\n",
       "    }\n",
       "\n",
       "    .dataframe thead th {\n",
       "        text-align: right;\n",
       "    }\n",
       "</style>\n",
       "<table border=\"1\" class=\"dataframe\">\n",
       "  <thead>\n",
       "    <tr style=\"text-align: right;\">\n",
       "      <th></th>\n",
       "      <th>Transcript</th>\n",
       "      <th>Summary</th>\n",
       "      <th>President</th>\n",
       "      <th>Source</th>\n",
       "      <th>Date</th>\n",
       "      <th>URL</th>\n",
       "      <th>Word Count</th>\n",
       "      <th>Affiliation</th>\n",
       "    </tr>\n",
       "  </thead>\n",
       "  <tbody>\n",
       "    <tr>\n",
       "      <th>0</th>\n",
       "      <td>34th time i speak oval office we year soon tim...</td>\n",
       "      <td>In this broadcast from the Oval Office, Presid...</td>\n",
       "      <td>Ronald Reagan</td>\n",
       "      <td>National Archives</td>\n",
       "      <td>January 11, 1989</td>\n",
       "      <td>https://millercenter.org/the-presidency/presid...</td>\n",
       "      <td>3289</td>\n",
       "      <td>Republican</td>\n",
       "    </tr>\n",
       "    <tr>\n",
       "      <th>1</th>\n",
       "      <td>thank warm welcome governor balile congressman...</td>\n",
       "      <td>NaN</td>\n",
       "      <td>Ronald Reagan</td>\n",
       "      <td>NaN</td>\n",
       "      <td>December 16, 1988</td>\n",
       "      <td>https://millercenter.org/the-presidency/presid...</td>\n",
       "      <td>7127</td>\n",
       "      <td>Republican</td>\n",
       "    </tr>\n",
       "    <tr>\n",
       "      <th>2</th>\n",
       "      <td>thank thank seat live today remember know free...</td>\n",
       "      <td>At a Veteran's Day Ceremony, Reagan praises th...</td>\n",
       "      <td>Ronald Reagan</td>\n",
       "      <td>Ronald Reagan Presidential Library</td>\n",
       "      <td>November 11, 1988</td>\n",
       "      <td>https://millercenter.org/the-presidency/presid...</td>\n",
       "      <td>280</td>\n",
       "      <td>Republican</td>\n",
       "    </tr>\n",
       "    <tr>\n",
       "      <th>3</th>\n",
       "      <td>mr president mr general secretary distinguish ...</td>\n",
       "      <td>NaN</td>\n",
       "      <td>Ronald Reagan</td>\n",
       "      <td>Ronald Reagan Presidential Library</td>\n",
       "      <td>September 26, 1988</td>\n",
       "      <td>https://millercenter.org/the-presidency/presid...</td>\n",
       "      <td>4889</td>\n",
       "      <td>Republican</td>\n",
       "    </tr>\n",
       "    <tr>\n",
       "      <th>4</th>\n",
       "      <td>madam chairman delegate convention fellow citi...</td>\n",
       "      <td>NaN</td>\n",
       "      <td>Ronald Reagan</td>\n",
       "      <td>NaN</td>\n",
       "      <td>August 15, 1988</td>\n",
       "      <td>https://millercenter.org/the-presidency/presid...</td>\n",
       "      <td>4476</td>\n",
       "      <td>Republican</td>\n",
       "    </tr>\n",
       "  </tbody>\n",
       "</table>\n",
       "</div>"
      ],
      "text/plain": [
       "                                          Transcript  \\\n",
       "0  34th time i speak oval office we year soon tim...   \n",
       "1  thank warm welcome governor balile congressman...   \n",
       "2  thank thank seat live today remember know free...   \n",
       "3  mr president mr general secretary distinguish ...   \n",
       "4  madam chairman delegate convention fellow citi...   \n",
       "\n",
       "                                             Summary      President  \\\n",
       "0  In this broadcast from the Oval Office, Presid...  Ronald Reagan   \n",
       "1                                                NaN  Ronald Reagan   \n",
       "2  At a Veteran's Day Ceremony, Reagan praises th...  Ronald Reagan   \n",
       "3                                                NaN  Ronald Reagan   \n",
       "4                                                NaN  Ronald Reagan   \n",
       "\n",
       "                               Source                Date  \\\n",
       "0                   National Archives    January 11, 1989   \n",
       "1                                 NaN   December 16, 1988   \n",
       "2  Ronald Reagan Presidential Library   November 11, 1988   \n",
       "3  Ronald Reagan Presidential Library  September 26, 1988   \n",
       "4                                 NaN     August 15, 1988   \n",
       "\n",
       "                                                 URL  Word Count Affiliation  \n",
       "0  https://millercenter.org/the-presidency/presid...        3289  Republican  \n",
       "1  https://millercenter.org/the-presidency/presid...        7127  Republican  \n",
       "2  https://millercenter.org/the-presidency/presid...         280  Republican  \n",
       "3  https://millercenter.org/the-presidency/presid...        4889  Republican  \n",
       "4  https://millercenter.org/the-presidency/presid...        4476  Republican  "
      ]
     },
     "execution_count": 12,
     "metadata": {},
     "output_type": "execute_result"
    }
   ],
   "source": [
    "speeches.head()"
   ]
  },
  {
   "cell_type": "code",
   "execution_count": 13,
   "metadata": {
    "scrolled": false
   },
   "outputs": [
    {
     "data": {
      "text/plain": [
       "Lyndon B. Johnson    71\n",
       "Ronald Reagan        59\n",
       "Barack Obama         50\n",
       "John F. Kennedy      44\n",
       "George W. Bush       39\n",
       "Bill Clinton         39\n",
       "Donald Trump         30\n",
       "George H. W. Bush    23\n",
       "Jimmy Carter         22\n",
       "Gerald Ford          14\n",
       "Name: President, dtype: int64"
      ]
     },
     "execution_count": 13,
     "metadata": {},
     "output_type": "execute_result"
    }
   ],
   "source": [
    "speeches.President.value_counts()"
   ]
  },
  {
   "cell_type": "code",
   "execution_count": 15,
   "metadata": {},
   "outputs": [
    {
     "data": {
      "image/png": "[encoded data removed]",
      "text/plain": [
       "<Figure size 432x288 with 1 Axes>"
      ]
     },
     "metadata": {
      "needs_background": "light"
     },
     "output_type": "display_data"
    }
   ],
   "source": [
    "_ = sns.countplot(data=speeches, x = 'Affiliation', palette=['r', 'b'])"
   ]
  },
  {
   "cell_type": "code",
   "execution_count": 16,
   "metadata": {},
   "outputs": [
    {
     "data": {
      "text/plain": [
       "0      3289\n",
       "1      7127\n",
       "2       280\n",
       "3      4889\n",
       "4      4476\n",
       "       ... \n",
       "386    5064\n",
       "387    6999\n",
       "388    1045\n",
       "389    2327\n",
       "390    1598\n",
       "Name: Word Count, Length: 391, dtype: int64"
      ]
     },
     "execution_count": 16,
     "metadata": {},
     "output_type": "execute_result"
    }
   ],
   "source": [
    "speeches['Word Count']"
   ]
  },
  {
   "cell_type": "code",
   "execution_count": 17,
   "metadata": {},
   "outputs": [],
   "source": [
    "dem_count = sum(speeches[speeches['Affiliation'] == 'Democrat']['Word Count'])\n",
    "rep_count = sum(speeches[speeches['Affiliation'] == 'Republican']['Word Count'])"
   ]
  },
  {
   "cell_type": "code",
   "execution_count": 18,
   "metadata": {
    "scrolled": true
   },
   "outputs": [
    {
     "data": {
      "image/png": "[encoded data removed]",
      "text/plain": [
       "<Figure size 432x288 with 1 Axes>"
      ]
     },
     "metadata": {
      "needs_background": "light"
     },
     "output_type": "display_data"
    }
   ],
   "source": [
    "_ = sns.barplot(y =[rep_count, dem_count], x=['Republican', 'Democrat'], palette=['r', 'b'])"
   ]
  },
  {
   "cell_type": "code",
   "execution_count": 19,
   "metadata": {},
   "outputs": [
    {
     "data": {
      "image/png": "[encoded data removed]",
      "text/plain": [
       "<Figure size 432x288 with 1 Axes>"
      ]
     },
     "metadata": {
      "needs_background": "light"
     },
     "output_type": "display_data"
    }
   ],
   "source": [
    "_ = sns.distplot(speeches['Word Count'], rug=True, kde=False, color='g')\n"
   ]
  },
  {
   "cell_type": "code",
   "execution_count": 20,
   "metadata": {},
   "outputs": [
    {
     "data": {
      "text/plain": [
       "<matplotlib.axes._subplots.AxesSubplot at 0x124bb7950>"
      ]
     },
     "execution_count": 20,
     "metadata": {},
     "output_type": "execute_result"
    },
    {
     "data": {
      "image/png": "[encoded data removed]",
      "text/plain": [
       "<Figure size 432x288 with 1 Axes>"
      ]
     },
     "metadata": {
      "needs_background": "light"
     },
     "output_type": "display_data"
    }
   ],
   "source": [
    "dem_wc = speeches[speeches['Affiliation'] == 'Democrat']\n",
    "rep_wc = speeches[speeches['Affiliation'] == 'Republican']\n",
    "\n",
    "sns.distplot(dem_wc[['Word Count']], rug=True, color='b', kde=False, bins=30)\n",
    "sns.distplot(rep_wc[['Word Count']], rug=True, color='r', kde=False, bins=30)\n",
    "# sns.distplot(speeches['Word Count'], rug=True, color='g', kde=False)"
   ]
  },
  {
   "cell_type": "code",
   "execution_count": 21,
   "metadata": {},
   "outputs": [
    {
     "data": {
      "text/html": [
       "<div>\n",
       "<style scoped>\n",
       "    .dataframe tbody tr th:only-of-type {\n",
       "        vertical-align: middle;\n",
       "    }\n",
       "\n",
       "    .dataframe tbody tr th {\n",
       "        vertical-align: top;\n",
       "    }\n",
       "\n",
       "    .dataframe thead th {\n",
       "        text-align: right;\n",
       "    }\n",
       "</style>\n",
       "<table border=\"1\" class=\"dataframe\">\n",
       "  <thead>\n",
       "    <tr style=\"text-align: right;\">\n",
       "      <th></th>\n",
       "      <th>Word Count</th>\n",
       "    </tr>\n",
       "  </thead>\n",
       "  <tbody>\n",
       "    <tr>\n",
       "      <th>count</th>\n",
       "      <td>240.000000</td>\n",
       "    </tr>\n",
       "    <tr>\n",
       "      <th>mean</th>\n",
       "      <td>3731.533333</td>\n",
       "    </tr>\n",
       "    <tr>\n",
       "      <th>std</th>\n",
       "      <td>2867.832629</td>\n",
       "    </tr>\n",
       "    <tr>\n",
       "      <th>min</th>\n",
       "      <td>6.000000</td>\n",
       "    </tr>\n",
       "    <tr>\n",
       "      <th>25%</th>\n",
       "      <td>1671.750000</td>\n",
       "    </tr>\n",
       "    <tr>\n",
       "      <th>50%</th>\n",
       "      <td>3162.000000</td>\n",
       "    </tr>\n",
       "    <tr>\n",
       "      <th>75%</th>\n",
       "      <td>4720.750000</td>\n",
       "    </tr>\n",
       "    <tr>\n",
       "      <th>max</th>\n",
       "      <td>16890.000000</td>\n",
       "    </tr>\n",
       "  </tbody>\n",
       "</table>\n",
       "</div>"
      ],
      "text/plain": [
       "         Word Count\n",
       "count    240.000000\n",
       "mean    3731.533333\n",
       "std     2867.832629\n",
       "min        6.000000\n",
       "25%     1671.750000\n",
       "50%     3162.000000\n",
       "75%     4720.750000\n",
       "max    16890.000000"
      ]
     },
     "execution_count": 21,
     "metadata": {},
     "output_type": "execute_result"
    }
   ],
   "source": [
    "dem_wc.describe()"
   ]
  },
  {
   "cell_type": "code",
   "execution_count": 22,
   "metadata": {},
   "outputs": [
    {
     "data": {
      "text/html": [
       "<div>\n",
       "<style scoped>\n",
       "    .dataframe tbody tr th:only-of-type {\n",
       "        vertical-align: middle;\n",
       "    }\n",
       "\n",
       "    .dataframe tbody tr th {\n",
       "        vertical-align: top;\n",
       "    }\n",
       "\n",
       "    .dataframe thead th {\n",
       "        text-align: right;\n",
       "    }\n",
       "</style>\n",
       "<table border=\"1\" class=\"dataframe\">\n",
       "  <thead>\n",
       "    <tr style=\"text-align: right;\">\n",
       "      <th></th>\n",
       "      <th>Word Count</th>\n",
       "    </tr>\n",
       "  </thead>\n",
       "  <tbody>\n",
       "    <tr>\n",
       "      <th>count</th>\n",
       "      <td>151.000000</td>\n",
       "    </tr>\n",
       "    <tr>\n",
       "      <th>mean</th>\n",
       "      <td>3587.821192</td>\n",
       "    </tr>\n",
       "    <tr>\n",
       "      <th>std</th>\n",
       "      <td>2933.184538</td>\n",
       "    </tr>\n",
       "    <tr>\n",
       "      <th>min</th>\n",
       "      <td>6.000000</td>\n",
       "    </tr>\n",
       "    <tr>\n",
       "      <th>25%</th>\n",
       "      <td>1554.500000</td>\n",
       "    </tr>\n",
       "    <tr>\n",
       "      <th>50%</th>\n",
       "      <td>3033.000000</td>\n",
       "    </tr>\n",
       "    <tr>\n",
       "      <th>75%</th>\n",
       "      <td>4693.000000</td>\n",
       "    </tr>\n",
       "    <tr>\n",
       "      <th>max</th>\n",
       "      <td>16408.000000</td>\n",
       "    </tr>\n",
       "  </tbody>\n",
       "</table>\n",
       "</div>"
      ],
      "text/plain": [
       "         Word Count\n",
       "count    151.000000\n",
       "mean    3587.821192\n",
       "std     2933.184538\n",
       "min        6.000000\n",
       "25%     1554.500000\n",
       "50%     3033.000000\n",
       "75%     4693.000000\n",
       "max    16408.000000"
      ]
     },
     "execution_count": 22,
     "metadata": {},
     "output_type": "execute_result"
    }
   ],
   "source": [
    "rep_wc.describe()"
   ]
  },
  {
   "cell_type": "code",
   "execution_count": 23,
   "metadata": {
    "scrolled": true
   },
   "outputs": [
    {
     "data": {
      "text/html": [
       "<div>\n",
       "<style scoped>\n",
       "    .dataframe tbody tr th:only-of-type {\n",
       "        vertical-align: middle;\n",
       "    }\n",
       "\n",
       "    .dataframe tbody tr th {\n",
       "        vertical-align: top;\n",
       "    }\n",
       "\n",
       "    .dataframe thead th {\n",
       "        text-align: right;\n",
       "    }\n",
       "</style>\n",
       "<table border=\"1\" class=\"dataframe\">\n",
       "  <thead>\n",
       "    <tr style=\"text-align: right;\">\n",
       "      <th></th>\n",
       "      <th>Word Count</th>\n",
       "    </tr>\n",
       "  </thead>\n",
       "  <tbody>\n",
       "    <tr>\n",
       "      <th>count</th>\n",
       "      <td>391.000000</td>\n",
       "    </tr>\n",
       "    <tr>\n",
       "      <th>mean</th>\n",
       "      <td>3676.033248</td>\n",
       "    </tr>\n",
       "    <tr>\n",
       "      <th>std</th>\n",
       "      <td>2890.345056</td>\n",
       "    </tr>\n",
       "    <tr>\n",
       "      <th>min</th>\n",
       "      <td>6.000000</td>\n",
       "    </tr>\n",
       "    <tr>\n",
       "      <th>25%</th>\n",
       "      <td>1635.000000</td>\n",
       "    </tr>\n",
       "    <tr>\n",
       "      <th>50%</th>\n",
       "      <td>3099.000000</td>\n",
       "    </tr>\n",
       "    <tr>\n",
       "      <th>75%</th>\n",
       "      <td>4722.500000</td>\n",
       "    </tr>\n",
       "    <tr>\n",
       "      <th>max</th>\n",
       "      <td>16890.000000</td>\n",
       "    </tr>\n",
       "  </tbody>\n",
       "</table>\n",
       "</div>"
      ],
      "text/plain": [
       "         Word Count\n",
       "count    391.000000\n",
       "mean    3676.033248\n",
       "std     2890.345056\n",
       "min        6.000000\n",
       "25%     1635.000000\n",
       "50%     3099.000000\n",
       "75%     4722.500000\n",
       "max    16890.000000"
      ]
     },
     "execution_count": 23,
     "metadata": {},
     "output_type": "execute_result"
    }
   ],
   "source": [
    "speeches.describe()"
   ]
  },
  {
   "cell_type": "markdown",
   "metadata": {},
   "source": [
    "Median of 3K words per speech, mean is 3600 but std is 2890, pretty large (so median is more significative)\n",
    "Pretty large outliers"
   ]
  },
  {
   "cell_type": "code",
   "execution_count": 24,
   "metadata": {
    "scrolled": true
   },
   "outputs": [
    {
     "data": {
      "text/html": [
       "<div>\n",
       "<style scoped>\n",
       "    .dataframe tbody tr th:only-of-type {\n",
       "        vertical-align: middle;\n",
       "    }\n",
       "\n",
       "    .dataframe tbody tr th {\n",
       "        vertical-align: top;\n",
       "    }\n",
       "\n",
       "    .dataframe thead th {\n",
       "        text-align: right;\n",
       "    }\n",
       "</style>\n",
       "<table border=\"1\" class=\"dataframe\">\n",
       "  <thead>\n",
       "    <tr style=\"text-align: right;\">\n",
       "      <th></th>\n",
       "      <th>Transcript</th>\n",
       "      <th>Summary</th>\n",
       "      <th>President</th>\n",
       "      <th>Source</th>\n",
       "      <th>Date</th>\n",
       "      <th>URL</th>\n",
       "      <th>Word Count</th>\n",
       "      <th>Affiliation</th>\n",
       "    </tr>\n",
       "  </thead>\n",
       "  <tbody>\n",
       "    <tr>\n",
       "      <th>107</th>\n",
       "      <td>error transcript url httpsmillercenterorgthepr...</td>\n",
       "      <td>After winning the 2008 presidential election, ...</td>\n",
       "      <td>Barack Obama</td>\n",
       "      <td>Miller Center</td>\n",
       "      <td>November 04, 2008</td>\n",
       "      <td>https://millercenter.org/the-presidency/presid...</td>\n",
       "      <td>6</td>\n",
       "      <td>Democrat</td>\n",
       "    </tr>\n",
       "    <tr>\n",
       "      <th>108</th>\n",
       "      <td>error transcript url httpsmillercenterorgthepr...</td>\n",
       "      <td>After winning the Democratic Party's nominatio...</td>\n",
       "      <td>Barack Obama</td>\n",
       "      <td>National Archives</td>\n",
       "      <td>August 28, 2008</td>\n",
       "      <td>https://millercenter.org/the-presidency/presid...</td>\n",
       "      <td>6</td>\n",
       "      <td>Democrat</td>\n",
       "    </tr>\n",
       "    <tr>\n",
       "      <th>109</th>\n",
       "      <td>error transcript url httpsmillercenterorgthepr...</td>\n",
       "      <td>President Donald Trump holds his daily Coronav...</td>\n",
       "      <td>Donald Trump</td>\n",
       "      <td>The White House</td>\n",
       "      <td>April 23, 2020</td>\n",
       "      <td>https://millercenter.org/the-presidency/presid...</td>\n",
       "      <td>6</td>\n",
       "      <td>Republican</td>\n",
       "    </tr>\n",
       "    <tr>\n",
       "      <th>110</th>\n",
       "      <td>error transcript url httpsmillercenterorgthepr...</td>\n",
       "      <td>During this press briefing with the Coronaviru...</td>\n",
       "      <td>Donald Trump</td>\n",
       "      <td>The White House</td>\n",
       "      <td>April 15, 2020</td>\n",
       "      <td>https://millercenter.org/the-presidency/presid...</td>\n",
       "      <td>6</td>\n",
       "      <td>Republican</td>\n",
       "    </tr>\n",
       "    <tr>\n",
       "      <th>111</th>\n",
       "      <td>error transcript url httpsmillercenterorgthepr...</td>\n",
       "      <td>During the coronavirus pandemic, President Don...</td>\n",
       "      <td>Donald Trump</td>\n",
       "      <td>The White House</td>\n",
       "      <td>April 13, 2020</td>\n",
       "      <td>https://millercenter.org/the-presidency/presid...</td>\n",
       "      <td>6</td>\n",
       "      <td>Republican</td>\n",
       "    </tr>\n",
       "  </tbody>\n",
       "</table>\n",
       "</div>"
      ],
      "text/plain": [
       "                                            Transcript  \\\n",
       "107  error transcript url httpsmillercenterorgthepr...   \n",
       "108  error transcript url httpsmillercenterorgthepr...   \n",
       "109  error transcript url httpsmillercenterorgthepr...   \n",
       "110  error transcript url httpsmillercenterorgthepr...   \n",
       "111  error transcript url httpsmillercenterorgthepr...   \n",
       "\n",
       "                                               Summary     President  \\\n",
       "107  After winning the 2008 presidential election, ...  Barack Obama   \n",
       "108  After winning the Democratic Party's nominatio...  Barack Obama   \n",
       "109  President Donald Trump holds his daily Coronav...  Donald Trump   \n",
       "110  During this press briefing with the Coronaviru...  Donald Trump   \n",
       "111  During the coronavirus pandemic, President Don...  Donald Trump   \n",
       "\n",
       "                Source               Date  \\\n",
       "107      Miller Center  November 04, 2008   \n",
       "108  National Archives    August 28, 2008   \n",
       "109    The White House     April 23, 2020   \n",
       "110    The White House     April 15, 2020   \n",
       "111    The White House     April 13, 2020   \n",
       "\n",
       "                                                   URL  Word Count Affiliation  \n",
       "107  https://millercenter.org/the-presidency/presid...           6    Democrat  \n",
       "108  https://millercenter.org/the-presidency/presid...           6    Democrat  \n",
       "109  https://millercenter.org/the-presidency/presid...           6  Republican  \n",
       "110  https://millercenter.org/the-presidency/presid...           6  Republican  \n",
       "111  https://millercenter.org/the-presidency/presid...           6  Republican  "
      ]
     },
     "execution_count": 24,
     "metadata": {},
     "output_type": "execute_result"
    }
   ],
   "source": [
    "speeches[(speeches['Word Count'] < 100)]\n"
   ]
  },
  {
   "cell_type": "code",
   "execution_count": null,
   "metadata": {},
   "outputs": [],
   "source": []
  }
 ],
 "metadata": {
  "kernelspec": {
   "display_name": "Python 3",
   "language": "python",
   "name": "python3"
  },
  "language_info": {
   "codemirror_mode": {
    "name": "ipython",
    "version": 3
   },
   "file_extension": ".py",
   "mimetype": "text/x-python",
   "name": "python",
   "nbconvert_exporter": "python",
   "pygments_lexer": "ipython3",
   "version": "3.7.7"
  }
 },
 "nbformat": 4,
 "nbformat_minor": 4
}
