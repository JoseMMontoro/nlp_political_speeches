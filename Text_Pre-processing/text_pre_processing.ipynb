{
 "cells": [
  {
   "cell_type": "code",
   "execution_count": 56,
   "metadata": {},
   "outputs": [
    {
     "name": "stdout",
     "output_type": "stream",
     "text": [
      "The autoreload extension is already loaded. To reload it, use:\n",
      "  %reload_ext autoreload\n"
     ]
    }
   ],
   "source": [
    "%load_ext autoreload\n",
    "%autoreload 2\n"
   ]
  },
  {
   "cell_type": "code",
   "execution_count": 57,
   "metadata": {},
   "outputs": [],
   "source": [
    "%reload_ext autoreload"
   ]
  },
  {
   "cell_type": "code",
   "execution_count": 58,
   "metadata": {},
   "outputs": [],
   "source": [
    "import pandas as pd\n",
    "import seaborn as sns"
   ]
  },
  {
   "cell_type": "code",
   "execution_count": 59,
   "metadata": {},
   "outputs": [],
   "source": [
    "speeches2 = pd.read_csv('millercenter_speeches_df.csv', index_col=0).reset_index(drop=True)"
   ]
  },
  {
   "cell_type": "code",
   "execution_count": 60,
   "metadata": {},
   "outputs": [],
   "source": [
    "# Why the first representation of the string is not escaped and the second one is?"
   ]
  },
  {
   "cell_type": "code",
   "execution_count": 61,
   "metadata": {},
   "outputs": [],
   "source": [
    "# No need to convert accented characters?"
   ]
  },
  {
   "cell_type": "code",
   "execution_count": 62,
   "metadata": {},
   "outputs": [],
   "source": [
    "import sys\n",
    "sys.path.append('/Users/susan_jose/Jose/springboard/nlp_political_speeches/Text_Pre-processing/')\n",
    "from text_preprocessing_helpers import expand_contractions, remove_special_characters"
   ]
  },
  {
   "cell_type": "code",
   "execution_count": 63,
   "metadata": {},
   "outputs": [],
   "source": [
    "# Expand contractions using DJ's function\n",
    "speeches['Transcript'] = speeches['Transcript'].apply(lambda x : expand_contractions(x))"
   ]
  },
  {
   "cell_type": "code",
   "execution_count": 64,
   "metadata": {},
   "outputs": [],
   "source": [
    "# Remove special characters with DJ's function\n",
    "speeches['Transcript'] = speeches['Transcript'].apply(lambda x : remove_special_characters(x))"
   ]
  },
  {
   "cell_type": "code",
   "execution_count": 65,
   "metadata": {},
   "outputs": [],
   "source": [
    "# Using SpaCy to lemmatize transcripts\n",
    "# Remove stop-words"
   ]
  },
  {
   "cell_type": "code",
   "execution_count": 66,
   "metadata": {},
   "outputs": [],
   "source": [
    "# No need to do POS, dependency parsing, NER or other pre-processing"
   ]
  },
  {
   "cell_type": "code",
   "execution_count": 67,
   "metadata": {},
   "outputs": [
    {
     "name": "stdout",
     "output_type": "stream",
     "text": [
      "/opt/anaconda3/envs/nlp_capstone/lib/python3.7/site-packages/spacy/__init__.py\n",
      "2.0.16\n"
     ]
    }
   ],
   "source": [
    "import spacy\n",
    "print(spacy.__file__)\n",
    "print(spacy.__version__)"
   ]
  },
  {
   "cell_type": "code",
   "execution_count": 68,
   "metadata": {},
   "outputs": [],
   "source": [
    "nlp = spacy.load('en')"
   ]
  },
  {
   "cell_type": "code",
   "execution_count": 69,
   "metadata": {},
   "outputs": [],
   "source": [
    "def lemmatize_speech(speech):\n",
    "    text = nlp(speech)\n",
    "    text = ' '.join([word.lemma_ if word.lemma_ != '-PRON-' else word.text for word in text])\n",
    "    return text\n"
   ]
  },
  {
   "cell_type": "code",
   "execution_count": 70,
   "metadata": {},
   "outputs": [],
   "source": [
    "def remove_stopwords(speech):\n",
    "    text = nlp(speech)\n",
    "    text = ' '.join([word.text for word in text if not word.is_stop ])\n",
    "    return text"
   ]
  },
  {
   "cell_type": "code",
   "execution_count": 72,
   "metadata": {},
   "outputs": [],
   "source": [
    "speeches['Transcript'] = speeches['Transcript'].apply(lambda x : remove_stopwords(x))"
   ]
  },
  {
   "cell_type": "code",
   "execution_count": 71,
   "metadata": {},
   "outputs": [],
   "source": [
    "speeches['Transcript'] = speeches['Transcript'].apply(lambda x : lemmatize_speech(x))"
   ]
  },
  {
   "cell_type": "code",
   "execution_count": 73,
   "metadata": {},
   "outputs": [
    {
     "data": {
      "text/html": [
       "<div>\n",
       "<style scoped>\n",
       "    .dataframe tbody tr th:only-of-type {\n",
       "        vertical-align: middle;\n",
       "    }\n",
       "\n",
       "    .dataframe tbody tr th {\n",
       "        vertical-align: top;\n",
       "    }\n",
       "\n",
       "    .dataframe thead th {\n",
       "        text-align: right;\n",
       "    }\n",
       "</style>\n",
       "<table border=\"1\" class=\"dataframe\">\n",
       "  <thead>\n",
       "    <tr style=\"text-align: right;\">\n",
       "      <th></th>\n",
       "      <th>Transcript</th>\n",
       "      <th>Summary</th>\n",
       "      <th>President</th>\n",
       "      <th>Source</th>\n",
       "      <th>Date</th>\n",
       "      <th>URL</th>\n",
       "      <th>Word Count</th>\n",
       "    </tr>\n",
       "  </thead>\n",
       "  <tbody>\n",
       "    <tr>\n",
       "      <th>0</th>\n",
       "      <td>34th time I speak oval office We year soon tim...</td>\n",
       "      <td>In this broadcast from the Oval Office, Presid...</td>\n",
       "      <td>Ronald Reagan</td>\n",
       "      <td>National Archives</td>\n",
       "      <td>January 11, 1989</td>\n",
       "      <td>https://millercenter.org/the-presidency/presid...</td>\n",
       "      <td>3289</td>\n",
       "    </tr>\n",
       "    <tr>\n",
       "      <th>1</th>\n",
       "      <td>thank warm welcome governor balile congressman...</td>\n",
       "      <td>NaN</td>\n",
       "      <td>Ronald Reagan</td>\n",
       "      <td>NaN</td>\n",
       "      <td>December 16, 1988</td>\n",
       "      <td>https://millercenter.org/the-presidency/presid...</td>\n",
       "      <td>7127</td>\n",
       "    </tr>\n",
       "    <tr>\n",
       "      <th>2</th>\n",
       "      <td>thank thank seat live today remember know free...</td>\n",
       "      <td>At a Veteran's Day Ceremony, Reagan praises th...</td>\n",
       "      <td>Ronald Reagan</td>\n",
       "      <td>Ronald Reagan Presidential Library</td>\n",
       "      <td>November 11, 1988</td>\n",
       "      <td>https://millercenter.org/the-presidency/presid...</td>\n",
       "      <td>280</td>\n",
       "    </tr>\n",
       "    <tr>\n",
       "      <th>3</th>\n",
       "      <td>mr president mr general secretary distinguish ...</td>\n",
       "      <td>NaN</td>\n",
       "      <td>Ronald Reagan</td>\n",
       "      <td>Ronald Reagan Presidential Library</td>\n",
       "      <td>September 26, 1988</td>\n",
       "      <td>https://millercenter.org/the-presidency/presid...</td>\n",
       "      <td>4889</td>\n",
       "    </tr>\n",
       "    <tr>\n",
       "      <th>4</th>\n",
       "      <td>madam chairman delegate convention fellow citi...</td>\n",
       "      <td>NaN</td>\n",
       "      <td>Ronald Reagan</td>\n",
       "      <td>NaN</td>\n",
       "      <td>August 15, 1988</td>\n",
       "      <td>https://millercenter.org/the-presidency/presid...</td>\n",
       "      <td>4476</td>\n",
       "    </tr>\n",
       "  </tbody>\n",
       "</table>\n",
       "</div>"
      ],
      "text/plain": [
       "                                          Transcript  \\\n",
       "0  34th time I speak oval office We year soon tim...   \n",
       "1  thank warm welcome governor balile congressman...   \n",
       "2  thank thank seat live today remember know free...   \n",
       "3  mr president mr general secretary distinguish ...   \n",
       "4  madam chairman delegate convention fellow citi...   \n",
       "\n",
       "                                             Summary      President  \\\n",
       "0  In this broadcast from the Oval Office, Presid...  Ronald Reagan   \n",
       "1                                                NaN  Ronald Reagan   \n",
       "2  At a Veteran's Day Ceremony, Reagan praises th...  Ronald Reagan   \n",
       "3                                                NaN  Ronald Reagan   \n",
       "4                                                NaN  Ronald Reagan   \n",
       "\n",
       "                               Source                Date  \\\n",
       "0                   National Archives    January 11, 1989   \n",
       "1                                 NaN   December 16, 1988   \n",
       "2  Ronald Reagan Presidential Library   November 11, 1988   \n",
       "3  Ronald Reagan Presidential Library  September 26, 1988   \n",
       "4                                 NaN     August 15, 1988   \n",
       "\n",
       "                                                 URL  Word Count  \n",
       "0  https://millercenter.org/the-presidency/presid...        3289  \n",
       "1  https://millercenter.org/the-presidency/presid...        7127  \n",
       "2  https://millercenter.org/the-presidency/presid...         280  \n",
       "3  https://millercenter.org/the-presidency/presid...        4889  \n",
       "4  https://millercenter.org/the-presidency/presid...        4476  "
      ]
     },
     "execution_count": 73,
     "metadata": {},
     "output_type": "execute_result"
    }
   ],
   "source": [
    "speeches.head()"
   ]
  },
  {
   "cell_type": "code",
   "execution_count": 75,
   "metadata": {},
   "outputs": [],
   "source": [
    "# Convert to lowercase\n",
    "speeches['Transcript'] = speeches['Transcript'].str.lower()"
   ]
  },
  {
   "cell_type": "code",
   "execution_count": 76,
   "metadata": {},
   "outputs": [],
   "source": [
    "# Replace newline chars by spaces\n",
    "speeches['Transcript'] = speeches['Transcript'].str.replace('\\n', ' ')\n",
    "# Replace more than one space with just one\n",
    "speeches['Transcript'] = speeches['Transcript'].str.replace('[ ]{2,}', ' ')"
   ]
  },
  {
   "cell_type": "code",
   "execution_count": 77,
   "metadata": {},
   "outputs": [
    {
     "data": {
      "text/plain": [
       "'34th time i speak oval office we year soon time i i want share think i save long time it honor life president write past week thank i nancy i grateful opportunity serve thing presidency somewhat apart you spend lot time fast car drive people tint glassthe parent hold child wave late return time i want stop reach glass connect maybe i little tonight people ask i feel leave fact sweet sorrow sweet california ranch freedom sorrowthe goodbye course leave beautiful place you know hall stair office white house president family live favorite window i i like stand look early morning view ground washington monument mall jefferson memorial morning humidity low past jefferson river potomac virginia shore view lincoln smoke rise battle bull run i prosaic thing grass bank morning traffic people way work sailboat river i think bit window i reflect past year mean mean image come mind like refrain nautical onea small story big ship refugee sailor it early 80 height boat people sailor hard work carrier midway patrol south china sea sailor like american serviceman young smart fiercely observant crew spy horizon leaky little boat cram inside refugee indochina hop america midway send small launch bring ship safety refugee way choppy sea spy sailor deck stand he yell hello american sailor hello freedom man small moment big meaning moment sailor write letter mind i i american 1980 we stand freedom i know past year world againand way ourselvesrediscover it journey decade hold stormy sea end reach destination fact grenada washington moscow summit recession 81 82 expansion begin late 82 continue day difference way i great triumph thing i proud economic recovery people america createdand filled19 million new job recovery morale america respect world look leadership happen year ago reflect it 1981 i attend big economic summit hold year canada meeting place rotate member country opening meeting formal dinner head goverment seven industrialized nation i sit like new kid school listen francois helmut they drop title speak firstname basis point i sort lean my ron year begin action feel ignite economic comebackcut tax regulation start cut spending soon recovery begin year later economic summit pretty cast big opening meeting sudden moment i sit look break silence tell american miracle 1980 i run president different pundit program result catastrophe our view foreign affair war our plan economy inflation soar bring economic collapse i remember highly respect economist 1982 engine economic growth shut likely stay way year come opinion leader wrong fact radical right dangerous desperately need time i win nickname great communicator i think style word i use difference content i great communicator i communicate great thing spring bloom brow come heart great nationfrom experience wisdom belief principle guide century they reagan revolution i accept like great rediscovery rediscovery value common sense common sense tell big tax people produce cut people tax rate people produce economy bloom like plant cut grow quicker strong our economic program bring long peacetime expansion history real family income poverty rate entrepreneurship boom explosion research new technology we export american industry competitive time summon national knock protectionist wall abroad instead erect home common sense tell preserve peace strong year weakness confusion rebuild defense new year toast new peacefulness globe superpower actually begin reduce stockpile nuclear weaponsand hope progress brightbut regional conflict rack globe begin cease persian gulf long war zone soviet leave afghanistan vietnamese prepare pull cambodia americanmediated accord soon send 50000 cuban troop home angola lesson course great nation challenge complex it way long remember principle believe future learn begin great movement tell end we mean change nation instead change world country globe turn free market free speech turn away ideology past great rediscovery 1980 lo behold moral way government practical way government democracy profoundly good profoundly productive point celebrate anniversary 39th birthday sit review life flow fork river right middle life i mean politic it intention i young i raise believe pay way blessing bestow i happy career entertainment world i ultimately politic i want protect precious revolution history mankind truly reverse course government little word we people we people tell government tell we people driver government car decide route fast world constitution document government tell people privilege our constitution document we people tell government allow we people free belief underlie basis i try past year 1960 i begin begin reverse order thingsthat rule regulation confiscatory tax government money option freedom i politic hand stop i citizen politician right thing citizen i think stop lot need stop i hope remind people man free government limit clear effect neat predictable law physics government expand liberty contract free pure communismand past year forge satisfy new closeness soviet union i ask gamble answer base action word deed detente 1970s base action promise they promise treat people people world better gulag gulag state expansionist wag proxy war africa asia latin america time far different president gorbachev bring internal democratic reform begin withdrawal afghanistan he free prisoner i time meet life way remind big thing small incident heady day moscow summit nancy i decide break entourage afternoon visit shop arbat streetthat little street moscow main shopping area visit surprise russian immediately recognize reach hand we sweep away warmth you feel possibility joy second kgb detail push way begin push shove people crowd it interesting moment it remind man street soviet union yearn peace government communist run communist mean view issue freedom human right differently we guard continue work lessen eliminate tension mistrust my view president gorbachev different previous soviet leader i think know thing wrong society try fix we wish continue work sure soviet union eventually emerge process threaten boil i want new closeness continue long clear continue act certain way long continue act helpful manner pull punch persist pull plug it trust verify it play cut card it watch closely afraid i ask i regret i deficit i talk great deal lately tonight argument i hold tongue observation i share victory congress people notice i win win they troop reagan regiment american people you win battle letter write demand action action need finish job reagan regiment bush brigade soon chief need bit i finally great tradition warn presidential farewell i mind time oddly start thing i proud past year resurgence national pride i new patriotism national feel good count ground thoughtfulness knowledge inform patriotism want good job teach child america represent long history world 35 year age grow different america we teach directly mean american absorb air love country appreciation institution thing family neighborhood father street fight korea family lose anzio sense patriotism school fail sense patriotism popular culture movie celebrate democratic value implicitly reinforce idea america special tv like mid60 enter 90 thing change young parent sure unambivalent appreciation america right thing teach modern child create popular culture wellground patriotism longer style our spirit reinstitutionaliz we good job america freedomfreedom speech freedom religion freedom enterprise freedom special rare it fragile need production [ protection ] teach history base fashion importantwhy pilgrim come jimmy doolittle 30 second tokyo mean you know year ago 40th anniversary dday i read letter young woman write late father d fight omaha beach her lisa zanatta henn remember forget boy normandy let help word forget know i warn eradication american memory result ultimately erosion american spirit let start basic attention american history great emphasis civic ritual let offer lesson number america great change america begin dinner table tomorrow night kitchen i hope talk begin child parent teach mean american let em know nail em american thing i tonight thing past day i window upstairs i think bit shin city hill phrase come john winthrop write describe america imagine imagine important early pilgrim early freedom man he journey today little wooden boat like pilgrim look home free i speak shin city political life i know i communicate i i mind tall proud city build rock strong ocean windswept godbless teem people kind live harmony peace city free port hum commerce creativity city wall wall door door open heart i stand city winter night prosperous secure happy year ago 200 year century stand strong true granite ridge glow hold steady matter storm beacon magnet freedom pilgrim lose place hurtle darkness home we i walk city street final word man woman reagan revolution man woman america year work bring america my friend we we mark time we difference we city strong city free leave good hand bad bad goodbye god bless god bless united state america'"
      ]
     },
     "execution_count": 77,
     "metadata": {},
     "output_type": "execute_result"
    }
   ],
   "source": [
    "speeches['Transcript'][0]"
   ]
  },
  {
   "cell_type": "code",
   "execution_count": 79,
   "metadata": {},
   "outputs": [],
   "source": [
    "def remove_non_ascii(speech):\n",
    "    text = nlp(speech)\n",
    "    text = ' '.join([word.text for word in text if word.is_ascii ])\n",
    "    return text"
   ]
  },
  {
   "cell_type": "code",
   "execution_count": 80,
   "metadata": {},
   "outputs": [],
   "source": [
    "speeches['Transcript'] = speeches['Transcript'].apply(lambda x : remove_non_ascii(x))"
   ]
  },
  {
   "cell_type": "code",
   "execution_count": 82,
   "metadata": {},
   "outputs": [],
   "source": [
    "with open('democratic_politicians.txt', 'r') as f:\n",
    "    dem = f.read().split('\\n')\n",
    "with open('republican_politicians.txt', 'r') as g:\n",
    "    rep = g.read().split('\\n')"
   ]
  },
  {
   "cell_type": "code",
   "execution_count": 83,
   "metadata": {},
   "outputs": [],
   "source": [
    "# Create list with affiliation per row\n",
    "aff = ['Republican' if p in rep else 'Democrat' if p in dem else 'Missing' for p in speeches['President']]\n",
    "#Assign affiliation to rows\n",
    "speeches['Affiliation'] = aff"
   ]
  },
  {
   "cell_type": "code",
   "execution_count": 96,
   "metadata": {},
   "outputs": [],
   "source": [
    "speeches.loc[speeches['Affiliation'] == 'Democrat', 'Label'] = int(1)\n",
    "speeches.loc[speeches['Affiliation'] == 'Republican', 'Label'] = int(0)\n",
    "speeches['Label'] = speeches['Label'].astype(int)"
   ]
  },
  {
   "cell_type": "code",
   "execution_count": 97,
   "metadata": {},
   "outputs": [
    {
     "data": {
      "text/html": [
       "<div>\n",
       "<style scoped>\n",
       "    .dataframe tbody tr th:only-of-type {\n",
       "        vertical-align: middle;\n",
       "    }\n",
       "\n",
       "    .dataframe tbody tr th {\n",
       "        vertical-align: top;\n",
       "    }\n",
       "\n",
       "    .dataframe thead th {\n",
       "        text-align: right;\n",
       "    }\n",
       "</style>\n",
       "<table border=\"1\" class=\"dataframe\">\n",
       "  <thead>\n",
       "    <tr style=\"text-align: right;\">\n",
       "      <th></th>\n",
       "      <th>Transcript</th>\n",
       "      <th>Summary</th>\n",
       "      <th>President</th>\n",
       "      <th>Source</th>\n",
       "      <th>Date</th>\n",
       "      <th>URL</th>\n",
       "      <th>Word Count</th>\n",
       "      <th>Affiliation</th>\n",
       "      <th>Label</th>\n",
       "    </tr>\n",
       "  </thead>\n",
       "  <tbody>\n",
       "    <tr>\n",
       "      <th>209</th>\n",
       "      <td>president good afternoon lady gentleman march ...</td>\n",
       "      <td>President Johnson holds a press conference to ...</td>\n",
       "      <td>Lyndon B. Johnson</td>\n",
       "      <td>Lyndon Baines Johnson Library and Museum</td>\n",
       "      <td>March 13, 1965</td>\n",
       "      <td>https://millercenter.org/the-presidency/presid...</td>\n",
       "      <td>3896</td>\n",
       "      <td>Democrat</td>\n",
       "      <td>1</td>\n",
       "    </tr>\n",
       "    <tr>\n",
       "      <th>176</th>\n",
       "      <td>lieutenant governor gorrell speaker cumming go...</td>\n",
       "      <td>President Johnson delivers a lengthy address a...</td>\n",
       "      <td>Lyndon B. Johnson</td>\n",
       "      <td>Lyndon Baines Johnson Library and Museum</td>\n",
       "      <td>March 15, 1967</td>\n",
       "      <td>https://millercenter.org/the-presidency/presid...</td>\n",
       "      <td>3422</td>\n",
       "      <td>Democrat</td>\n",
       "      <td>1</td>\n",
       "    </tr>\n",
       "    <tr>\n",
       "      <th>57</th>\n",
       "      <td>mr president mrs ford mr vice president mr vic...</td>\n",
       "      <td>NaN</td>\n",
       "      <td>Ronald Reagan</td>\n",
       "      <td>Ronald Reagan Presidential Library</td>\n",
       "      <td>August 19, 1976</td>\n",
       "      <td>https://millercenter.org/the-presidency/presid...</td>\n",
       "      <td>770</td>\n",
       "      <td>Republican</td>\n",
       "      <td>0</td>\n",
       "    </tr>\n",
       "    <tr>\n",
       "      <th>64</th>\n",
       "      <td>mr speaker mr vice president member congress f...</td>\n",
       "      <td>President Obama delivers his 2015 State of the...</td>\n",
       "      <td>Barack Obama</td>\n",
       "      <td>The White House</td>\n",
       "      <td>January 20, 2015</td>\n",
       "      <td>https://millercenter.org/the-presidency/presid...</td>\n",
       "      <td>6858</td>\n",
       "      <td>Democrat</td>\n",
       "      <td>1</td>\n",
       "    </tr>\n",
       "    <tr>\n",
       "      <th>30</th>\n",
       "      <td>officer man woman corps lady gentleman i come ...</td>\n",
       "      <td>NaN</td>\n",
       "      <td>Ronald Reagan</td>\n",
       "      <td>NaN</td>\n",
       "      <td>November 04, 1983</td>\n",
       "      <td>https://millercenter.org/the-presidency/presid...</td>\n",
       "      <td>979</td>\n",
       "      <td>Republican</td>\n",
       "      <td>0</td>\n",
       "    </tr>\n",
       "    <tr>\n",
       "      <th>86</th>\n",
       "      <td>ood evening tonight i report american people w...</td>\n",
       "      <td>President Obama delivers a statement on Seal T...</td>\n",
       "      <td>Barack Obama</td>\n",
       "      <td>The White House</td>\n",
       "      <td>May 01, 2011</td>\n",
       "      <td>https://millercenter.org/the-presidency/presid...</td>\n",
       "      <td>1387</td>\n",
       "      <td>Democrat</td>\n",
       "      <td>1</td>\n",
       "    </tr>\n",
       "    <tr>\n",
       "      <th>363</th>\n",
       "      <td>mr speaker mr vice president member 105th cong...</td>\n",
       "      <td>In his first State of the Union address of his...</td>\n",
       "      <td>Bill Clinton</td>\n",
       "      <td>William J. Clinton Presidential Library</td>\n",
       "      <td>February 04, 1997</td>\n",
       "      <td>https://millercenter.org/the-presidency/presid...</td>\n",
       "      <td>6746</td>\n",
       "      <td>Democrat</td>\n",
       "      <td>1</td>\n",
       "    </tr>\n",
       "    <tr>\n",
       "      <th>201</th>\n",
       "      <td>good evening lady gentleman i come meet leader...</td>\n",
       "      <td>NaN</td>\n",
       "      <td>Lyndon B. Johnson</td>\n",
       "      <td>National Archives</td>\n",
       "      <td>May 02, 1965</td>\n",
       "      <td>https://millercenter.org/the-presidency/presid...</td>\n",
       "      <td>2634</td>\n",
       "      <td>Democrat</td>\n",
       "      <td>1</td>\n",
       "    </tr>\n",
       "    <tr>\n",
       "      <th>243</th>\n",
       "      <td>good afternoon congress pass send desk bill co...</td>\n",
       "      <td>From the East Room of the White House, Preside...</td>\n",
       "      <td>George W. Bush</td>\n",
       "      <td>George W. Bush Presidential Library and Museum</td>\n",
       "      <td>July 19, 2006</td>\n",
       "      <td>https://millercenter.org/the-presidency/presid...</td>\n",
       "      <td>1655</td>\n",
       "      <td>Republican</td>\n",
       "      <td>0</td>\n",
       "    </tr>\n",
       "    <tr>\n",
       "      <th>350</th>\n",
       "      <td>i come decision i feel i tell fellow american ...</td>\n",
       "      <td>NaN</td>\n",
       "      <td>Gerald Ford</td>\n",
       "      <td>Gerald R. Ford Presidential Library</td>\n",
       "      <td>September 08, 1974</td>\n",
       "      <td>https://millercenter.org/the-presidency/presid...</td>\n",
       "      <td>1091</td>\n",
       "      <td>Democrat</td>\n",
       "      <td>1</td>\n",
       "    </tr>\n",
       "  </tbody>\n",
       "</table>\n",
       "</div>"
      ],
      "text/plain": [
       "                                            Transcript  \\\n",
       "209  president good afternoon lady gentleman march ...   \n",
       "176  lieutenant governor gorrell speaker cumming go...   \n",
       "57   mr president mrs ford mr vice president mr vic...   \n",
       "64   mr speaker mr vice president member congress f...   \n",
       "30   officer man woman corps lady gentleman i come ...   \n",
       "86   ood evening tonight i report american people w...   \n",
       "363  mr speaker mr vice president member 105th cong...   \n",
       "201  good evening lady gentleman i come meet leader...   \n",
       "243  good afternoon congress pass send desk bill co...   \n",
       "350  i come decision i feel i tell fellow american ...   \n",
       "\n",
       "                                               Summary          President  \\\n",
       "209  President Johnson holds a press conference to ...  Lyndon B. Johnson   \n",
       "176  President Johnson delivers a lengthy address a...  Lyndon B. Johnson   \n",
       "57                                                 NaN      Ronald Reagan   \n",
       "64   President Obama delivers his 2015 State of the...       Barack Obama   \n",
       "30                                                 NaN      Ronald Reagan   \n",
       "86   President Obama delivers a statement on Seal T...       Barack Obama   \n",
       "363  In his first State of the Union address of his...       Bill Clinton   \n",
       "201                                                NaN  Lyndon B. Johnson   \n",
       "243  From the East Room of the White House, Preside...     George W. Bush   \n",
       "350                                                NaN        Gerald Ford   \n",
       "\n",
       "                                             Source                Date  \\\n",
       "209        Lyndon Baines Johnson Library and Museum      March 13, 1965   \n",
       "176        Lyndon Baines Johnson Library and Museum      March 15, 1967   \n",
       "57               Ronald Reagan Presidential Library     August 19, 1976   \n",
       "64                                  The White House    January 20, 2015   \n",
       "30                                              NaN   November 04, 1983   \n",
       "86                                  The White House        May 01, 2011   \n",
       "363         William J. Clinton Presidential Library   February 04, 1997   \n",
       "201                               National Archives        May 02, 1965   \n",
       "243  George W. Bush Presidential Library and Museum       July 19, 2006   \n",
       "350             Gerald R. Ford Presidential Library  September 08, 1974   \n",
       "\n",
       "                                                   URL  Word Count  \\\n",
       "209  https://millercenter.org/the-presidency/presid...        3896   \n",
       "176  https://millercenter.org/the-presidency/presid...        3422   \n",
       "57   https://millercenter.org/the-presidency/presid...         770   \n",
       "64   https://millercenter.org/the-presidency/presid...        6858   \n",
       "30   https://millercenter.org/the-presidency/presid...         979   \n",
       "86   https://millercenter.org/the-presidency/presid...        1387   \n",
       "363  https://millercenter.org/the-presidency/presid...        6746   \n",
       "201  https://millercenter.org/the-presidency/presid...        2634   \n",
       "243  https://millercenter.org/the-presidency/presid...        1655   \n",
       "350  https://millercenter.org/the-presidency/presid...        1091   \n",
       "\n",
       "    Affiliation  Label  \n",
       "209    Democrat      1  \n",
       "176    Democrat      1  \n",
       "57   Republican      0  \n",
       "64     Democrat      1  \n",
       "30   Republican      0  \n",
       "86     Democrat      1  \n",
       "363    Democrat      1  \n",
       "201    Democrat      1  \n",
       "243  Republican      0  \n",
       "350    Democrat      1  "
      ]
     },
     "execution_count": 97,
     "metadata": {},
     "output_type": "execute_result"
    }
   ],
   "source": [
    "speeches.sample(10)"
   ]
  },
  {
   "cell_type": "code",
   "execution_count": 98,
   "metadata": {},
   "outputs": [],
   "source": [
    "speeches.to_csv('speeches_millercenter_preprocessed.csv', index=False)"
   ]
  },
  {
   "cell_type": "code",
   "execution_count": 84,
   "metadata": {},
   "outputs": [
    {
     "data": {
      "text/html": [
       "<div>\n",
       "<style scoped>\n",
       "    .dataframe tbody tr th:only-of-type {\n",
       "        vertical-align: middle;\n",
       "    }\n",
       "\n",
       "    .dataframe tbody tr th {\n",
       "        vertical-align: top;\n",
       "    }\n",
       "\n",
       "    .dataframe thead th {\n",
       "        text-align: right;\n",
       "    }\n",
       "</style>\n",
       "<table border=\"1\" class=\"dataframe\">\n",
       "  <thead>\n",
       "    <tr style=\"text-align: right;\">\n",
       "      <th></th>\n",
       "      <th>Transcript</th>\n",
       "      <th>Summary</th>\n",
       "      <th>President</th>\n",
       "      <th>Source</th>\n",
       "      <th>Date</th>\n",
       "      <th>URL</th>\n",
       "      <th>Word Count</th>\n",
       "      <th>Affiliation</th>\n",
       "    </tr>\n",
       "  </thead>\n",
       "  <tbody>\n",
       "    <tr>\n",
       "      <th>0</th>\n",
       "      <td>34th time i speak oval office we year soon tim...</td>\n",
       "      <td>In this broadcast from the Oval Office, Presid...</td>\n",
       "      <td>Ronald Reagan</td>\n",
       "      <td>National Archives</td>\n",
       "      <td>January 11, 1989</td>\n",
       "      <td>https://millercenter.org/the-presidency/presid...</td>\n",
       "      <td>3289</td>\n",
       "      <td>Republican</td>\n",
       "    </tr>\n",
       "    <tr>\n",
       "      <th>1</th>\n",
       "      <td>thank warm welcome governor balile congressman...</td>\n",
       "      <td>NaN</td>\n",
       "      <td>Ronald Reagan</td>\n",
       "      <td>NaN</td>\n",
       "      <td>December 16, 1988</td>\n",
       "      <td>https://millercenter.org/the-presidency/presid...</td>\n",
       "      <td>7127</td>\n",
       "      <td>Republican</td>\n",
       "    </tr>\n",
       "    <tr>\n",
       "      <th>2</th>\n",
       "      <td>thank thank seat live today remember know free...</td>\n",
       "      <td>At a Veteran's Day Ceremony, Reagan praises th...</td>\n",
       "      <td>Ronald Reagan</td>\n",
       "      <td>Ronald Reagan Presidential Library</td>\n",
       "      <td>November 11, 1988</td>\n",
       "      <td>https://millercenter.org/the-presidency/presid...</td>\n",
       "      <td>280</td>\n",
       "      <td>Republican</td>\n",
       "    </tr>\n",
       "    <tr>\n",
       "      <th>3</th>\n",
       "      <td>mr president mr general secretary distinguish ...</td>\n",
       "      <td>NaN</td>\n",
       "      <td>Ronald Reagan</td>\n",
       "      <td>Ronald Reagan Presidential Library</td>\n",
       "      <td>September 26, 1988</td>\n",
       "      <td>https://millercenter.org/the-presidency/presid...</td>\n",
       "      <td>4889</td>\n",
       "      <td>Republican</td>\n",
       "    </tr>\n",
       "    <tr>\n",
       "      <th>4</th>\n",
       "      <td>madam chairman delegate convention fellow citi...</td>\n",
       "      <td>NaN</td>\n",
       "      <td>Ronald Reagan</td>\n",
       "      <td>NaN</td>\n",
       "      <td>August 15, 1988</td>\n",
       "      <td>https://millercenter.org/the-presidency/presid...</td>\n",
       "      <td>4476</td>\n",
       "      <td>Republican</td>\n",
       "    </tr>\n",
       "  </tbody>\n",
       "</table>\n",
       "</div>"
      ],
      "text/plain": [
       "                                          Transcript  \\\n",
       "0  34th time i speak oval office we year soon tim...   \n",
       "1  thank warm welcome governor balile congressman...   \n",
       "2  thank thank seat live today remember know free...   \n",
       "3  mr president mr general secretary distinguish ...   \n",
       "4  madam chairman delegate convention fellow citi...   \n",
       "\n",
       "                                             Summary      President  \\\n",
       "0  In this broadcast from the Oval Office, Presid...  Ronald Reagan   \n",
       "1                                                NaN  Ronald Reagan   \n",
       "2  At a Veteran's Day Ceremony, Reagan praises th...  Ronald Reagan   \n",
       "3                                                NaN  Ronald Reagan   \n",
       "4                                                NaN  Ronald Reagan   \n",
       "\n",
       "                               Source                Date  \\\n",
       "0                   National Archives    January 11, 1989   \n",
       "1                                 NaN   December 16, 1988   \n",
       "2  Ronald Reagan Presidential Library   November 11, 1988   \n",
       "3  Ronald Reagan Presidential Library  September 26, 1988   \n",
       "4                                 NaN     August 15, 1988   \n",
       "\n",
       "                                                 URL  Word Count Affiliation  \n",
       "0  https://millercenter.org/the-presidency/presid...        3289  Republican  \n",
       "1  https://millercenter.org/the-presidency/presid...        7127  Republican  \n",
       "2  https://millercenter.org/the-presidency/presid...         280  Republican  \n",
       "3  https://millercenter.org/the-presidency/presid...        4889  Republican  \n",
       "4  https://millercenter.org/the-presidency/presid...        4476  Republican  "
      ]
     },
     "execution_count": 84,
     "metadata": {},
     "output_type": "execute_result"
    }
   ],
   "source": [
    "speeches.head()"
   ]
  },
  {
   "cell_type": "code",
   "execution_count": null,
   "metadata": {},
   "outputs": [],
   "source": []
  }
 ],
 "metadata": {
  "kernelspec": {
   "display_name": "Python 3",
   "language": "python",
   "name": "python3"
  },
  "language_info": {
   "codemirror_mode": {
    "name": "ipython",
    "version": 3
   },
   "file_extension": ".py",
   "mimetype": "text/x-python",
   "name": "python",
   "nbconvert_exporter": "python",
   "pygments_lexer": "ipython3",
   "version": "3.7.7"
  }
 },
 "nbformat": 4,
 "nbformat_minor": 4
}
